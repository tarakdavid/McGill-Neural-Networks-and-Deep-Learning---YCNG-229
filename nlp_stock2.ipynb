{
  "nbformat": 4,
  "nbformat_minor": 0,
  "metadata": {
    "colab": {
      "name": "nlp_stock2.ipynb",
      "provenance": [],
      "collapsed_sections": []
    },
    "kernelspec": {
      "name": "python3",
      "display_name": "Python 3"
    },
    "language_info": {
      "name": "python"
    }
  },
  "cells": [
    {
      "cell_type": "code",
      "metadata": {
        "colab": {
          "base_uri": "https://localhost:8080/"
        },
        "id": "_vGQBDVcvxcD",
        "outputId": "4015f1ee-175b-4188-fee0-8118282b633f"
      },
      "source": [
        "!pip install SentencePiece"
      ],
      "execution_count": null,
      "outputs": [
        {
          "output_type": "stream",
          "text": [
            "Collecting SentencePiece\n",
            "  Downloading sentencepiece-0.1.96-cp37-cp37m-manylinux_2_17_x86_64.manylinux2014_x86_64.whl (1.2 MB)\n",
            "\u001b[?25l\r\u001b[K     |▎                               | 10 kB 24.5 MB/s eta 0:00:01\r\u001b[K     |▌                               | 20 kB 30.4 MB/s eta 0:00:01\r\u001b[K     |▉                               | 30 kB 12.9 MB/s eta 0:00:01\r\u001b[K     |█                               | 40 kB 9.6 MB/s eta 0:00:01\r\u001b[K     |█▍                              | 51 kB 5.2 MB/s eta 0:00:01\r\u001b[K     |█▋                              | 61 kB 5.7 MB/s eta 0:00:01\r\u001b[K     |██                              | 71 kB 6.1 MB/s eta 0:00:01\r\u001b[K     |██▏                             | 81 kB 6.2 MB/s eta 0:00:01\r\u001b[K     |██▍                             | 92 kB 4.6 MB/s eta 0:00:01\r\u001b[K     |██▊                             | 102 kB 5.0 MB/s eta 0:00:01\r\u001b[K     |███                             | 112 kB 5.0 MB/s eta 0:00:01\r\u001b[K     |███▎                            | 122 kB 5.0 MB/s eta 0:00:01\r\u001b[K     |███▌                            | 133 kB 5.0 MB/s eta 0:00:01\r\u001b[K     |███▉                            | 143 kB 5.0 MB/s eta 0:00:01\r\u001b[K     |████                            | 153 kB 5.0 MB/s eta 0:00:01\r\u001b[K     |████▎                           | 163 kB 5.0 MB/s eta 0:00:01\r\u001b[K     |████▋                           | 174 kB 5.0 MB/s eta 0:00:01\r\u001b[K     |████▉                           | 184 kB 5.0 MB/s eta 0:00:01\r\u001b[K     |█████▏                          | 194 kB 5.0 MB/s eta 0:00:01\r\u001b[K     |█████▍                          | 204 kB 5.0 MB/s eta 0:00:01\r\u001b[K     |█████▊                          | 215 kB 5.0 MB/s eta 0:00:01\r\u001b[K     |██████                          | 225 kB 5.0 MB/s eta 0:00:01\r\u001b[K     |██████▏                         | 235 kB 5.0 MB/s eta 0:00:01\r\u001b[K     |██████▌                         | 245 kB 5.0 MB/s eta 0:00:01\r\u001b[K     |██████▊                         | 256 kB 5.0 MB/s eta 0:00:01\r\u001b[K     |███████                         | 266 kB 5.0 MB/s eta 0:00:01\r\u001b[K     |███████▎                        | 276 kB 5.0 MB/s eta 0:00:01\r\u001b[K     |███████▋                        | 286 kB 5.0 MB/s eta 0:00:01\r\u001b[K     |███████▉                        | 296 kB 5.0 MB/s eta 0:00:01\r\u001b[K     |████████                        | 307 kB 5.0 MB/s eta 0:00:01\r\u001b[K     |████████▍                       | 317 kB 5.0 MB/s eta 0:00:01\r\u001b[K     |████████▋                       | 327 kB 5.0 MB/s eta 0:00:01\r\u001b[K     |█████████                       | 337 kB 5.0 MB/s eta 0:00:01\r\u001b[K     |█████████▏                      | 348 kB 5.0 MB/s eta 0:00:01\r\u001b[K     |█████████▌                      | 358 kB 5.0 MB/s eta 0:00:01\r\u001b[K     |█████████▊                      | 368 kB 5.0 MB/s eta 0:00:01\r\u001b[K     |██████████                      | 378 kB 5.0 MB/s eta 0:00:01\r\u001b[K     |██████████▎                     | 389 kB 5.0 MB/s eta 0:00:01\r\u001b[K     |██████████▌                     | 399 kB 5.0 MB/s eta 0:00:01\r\u001b[K     |██████████▉                     | 409 kB 5.0 MB/s eta 0:00:01\r\u001b[K     |███████████                     | 419 kB 5.0 MB/s eta 0:00:01\r\u001b[K     |███████████▍                    | 430 kB 5.0 MB/s eta 0:00:01\r\u001b[K     |███████████▋                    | 440 kB 5.0 MB/s eta 0:00:01\r\u001b[K     |███████████▉                    | 450 kB 5.0 MB/s eta 0:00:01\r\u001b[K     |████████████▏                   | 460 kB 5.0 MB/s eta 0:00:01\r\u001b[K     |████████████▍                   | 471 kB 5.0 MB/s eta 0:00:01\r\u001b[K     |████████████▊                   | 481 kB 5.0 MB/s eta 0:00:01\r\u001b[K     |█████████████                   | 491 kB 5.0 MB/s eta 0:00:01\r\u001b[K     |█████████████▎                  | 501 kB 5.0 MB/s eta 0:00:01\r\u001b[K     |█████████████▌                  | 512 kB 5.0 MB/s eta 0:00:01\r\u001b[K     |█████████████▊                  | 522 kB 5.0 MB/s eta 0:00:01\r\u001b[K     |██████████████                  | 532 kB 5.0 MB/s eta 0:00:01\r\u001b[K     |██████████████▎                 | 542 kB 5.0 MB/s eta 0:00:01\r\u001b[K     |██████████████▋                 | 552 kB 5.0 MB/s eta 0:00:01\r\u001b[K     |██████████████▉                 | 563 kB 5.0 MB/s eta 0:00:01\r\u001b[K     |███████████████▏                | 573 kB 5.0 MB/s eta 0:00:01\r\u001b[K     |███████████████▍                | 583 kB 5.0 MB/s eta 0:00:01\r\u001b[K     |███████████████▋                | 593 kB 5.0 MB/s eta 0:00:01\r\u001b[K     |████████████████                | 604 kB 5.0 MB/s eta 0:00:01\r\u001b[K     |████████████████▏               | 614 kB 5.0 MB/s eta 0:00:01\r\u001b[K     |████████████████▌               | 624 kB 5.0 MB/s eta 0:00:01\r\u001b[K     |████████████████▊               | 634 kB 5.0 MB/s eta 0:00:01\r\u001b[K     |█████████████████               | 645 kB 5.0 MB/s eta 0:00:01\r\u001b[K     |█████████████████▎              | 655 kB 5.0 MB/s eta 0:00:01\r\u001b[K     |█████████████████▌              | 665 kB 5.0 MB/s eta 0:00:01\r\u001b[K     |█████████████████▉              | 675 kB 5.0 MB/s eta 0:00:01\r\u001b[K     |██████████████████              | 686 kB 5.0 MB/s eta 0:00:01\r\u001b[K     |██████████████████▍             | 696 kB 5.0 MB/s eta 0:00:01\r\u001b[K     |██████████████████▋             | 706 kB 5.0 MB/s eta 0:00:01\r\u001b[K     |███████████████████             | 716 kB 5.0 MB/s eta 0:00:01\r\u001b[K     |███████████████████▏            | 727 kB 5.0 MB/s eta 0:00:01\r\u001b[K     |███████████████████▍            | 737 kB 5.0 MB/s eta 0:00:01\r\u001b[K     |███████████████████▊            | 747 kB 5.0 MB/s eta 0:00:01\r\u001b[K     |████████████████████            | 757 kB 5.0 MB/s eta 0:00:01\r\u001b[K     |████████████████████▎           | 768 kB 5.0 MB/s eta 0:00:01\r\u001b[K     |████████████████████▌           | 778 kB 5.0 MB/s eta 0:00:01\r\u001b[K     |████████████████████▉           | 788 kB 5.0 MB/s eta 0:00:01\r\u001b[K     |█████████████████████           | 798 kB 5.0 MB/s eta 0:00:01\r\u001b[K     |█████████████████████▎          | 808 kB 5.0 MB/s eta 0:00:01\r\u001b[K     |█████████████████████▋          | 819 kB 5.0 MB/s eta 0:00:01\r\u001b[K     |█████████████████████▉          | 829 kB 5.0 MB/s eta 0:00:01\r\u001b[K     |██████████████████████▏         | 839 kB 5.0 MB/s eta 0:00:01\r\u001b[K     |██████████████████████▍         | 849 kB 5.0 MB/s eta 0:00:01\r\u001b[K     |██████████████████████▊         | 860 kB 5.0 MB/s eta 0:00:01\r\u001b[K     |███████████████████████         | 870 kB 5.0 MB/s eta 0:00:01\r\u001b[K     |███████████████████████▏        | 880 kB 5.0 MB/s eta 0:00:01\r\u001b[K     |███████████████████████▌        | 890 kB 5.0 MB/s eta 0:00:01\r\u001b[K     |███████████████████████▊        | 901 kB 5.0 MB/s eta 0:00:01\r\u001b[K     |████████████████████████        | 911 kB 5.0 MB/s eta 0:00:01\r\u001b[K     |████████████████████████▎       | 921 kB 5.0 MB/s eta 0:00:01\r\u001b[K     |████████████████████████▋       | 931 kB 5.0 MB/s eta 0:00:01\r\u001b[K     |████████████████████████▉       | 942 kB 5.0 MB/s eta 0:00:01\r\u001b[K     |█████████████████████████       | 952 kB 5.0 MB/s eta 0:00:01\r\u001b[K     |█████████████████████████▍      | 962 kB 5.0 MB/s eta 0:00:01\r\u001b[K     |█████████████████████████▋      | 972 kB 5.0 MB/s eta 0:00:01\r\u001b[K     |██████████████████████████      | 983 kB 5.0 MB/s eta 0:00:01\r\u001b[K     |██████████████████████████▏     | 993 kB 5.0 MB/s eta 0:00:01\r\u001b[K     |██████████████████████████▌     | 1.0 MB 5.0 MB/s eta 0:00:01\r\u001b[K     |██████████████████████████▊     | 1.0 MB 5.0 MB/s eta 0:00:01\r\u001b[K     |███████████████████████████     | 1.0 MB 5.0 MB/s eta 0:00:01\r\u001b[K     |███████████████████████████▎    | 1.0 MB 5.0 MB/s eta 0:00:01\r\u001b[K     |███████████████████████████▌    | 1.0 MB 5.0 MB/s eta 0:00:01\r\u001b[K     |███████████████████████████▉    | 1.1 MB 5.0 MB/s eta 0:00:01\r\u001b[K     |████████████████████████████    | 1.1 MB 5.0 MB/s eta 0:00:01\r\u001b[K     |████████████████████████████▍   | 1.1 MB 5.0 MB/s eta 0:00:01\r\u001b[K     |████████████████████████████▋   | 1.1 MB 5.0 MB/s eta 0:00:01\r\u001b[K     |████████████████████████████▉   | 1.1 MB 5.0 MB/s eta 0:00:01\r\u001b[K     |█████████████████████████████▏  | 1.1 MB 5.0 MB/s eta 0:00:01\r\u001b[K     |█████████████████████████████▍  | 1.1 MB 5.0 MB/s eta 0:00:01\r\u001b[K     |█████████████████████████████▊  | 1.1 MB 5.0 MB/s eta 0:00:01\r\u001b[K     |██████████████████████████████  | 1.1 MB 5.0 MB/s eta 0:00:01\r\u001b[K     |██████████████████████████████▎ | 1.1 MB 5.0 MB/s eta 0:00:01\r\u001b[K     |██████████████████████████████▌ | 1.2 MB 5.0 MB/s eta 0:00:01\r\u001b[K     |██████████████████████████████▊ | 1.2 MB 5.0 MB/s eta 0:00:01\r\u001b[K     |███████████████████████████████ | 1.2 MB 5.0 MB/s eta 0:00:01\r\u001b[K     |███████████████████████████████▎| 1.2 MB 5.0 MB/s eta 0:00:01\r\u001b[K     |███████████████████████████████▋| 1.2 MB 5.0 MB/s eta 0:00:01\r\u001b[K     |███████████████████████████████▉| 1.2 MB 5.0 MB/s eta 0:00:01\r\u001b[K     |████████████████████████████████| 1.2 MB 5.0 MB/s \n",
            "\u001b[?25hInstalling collected packages: SentencePiece\n",
            "Successfully installed SentencePiece-0.1.96\n"
          ],
          "name": "stdout"
        }
      ]
    },
    {
      "cell_type": "code",
      "metadata": {
        "colab": {
          "base_uri": "https://localhost:8080/"
        },
        "id": "iaNzIg9IBrDy",
        "outputId": "c25fbfbb-3c3f-4ba3-d15f-a404d9ebe393"
      },
      "source": [
        "import nltk\n",
        "nltk.download('vader_lexicon')"
      ],
      "execution_count": 1,
      "outputs": [
        {
          "output_type": "stream",
          "text": [
            "[nltk_data] Downloading package vader_lexicon to /root/nltk_data...\n"
          ],
          "name": "stdout"
        },
        {
          "output_type": "execute_result",
          "data": {
            "text/plain": [
              "True"
            ]
          },
          "metadata": {
            "tags": []
          },
          "execution_count": 1
        }
      ]
    },
    {
      "cell_type": "code",
      "metadata": {
        "id": "581IlC7yj4gf",
        "colab": {
          "base_uri": "https://localhost:8080/"
        },
        "outputId": "750f76e6-cd0c-41ce-eeb5-3ae6566f74a1"
      },
      "source": [
        "\n",
        "from bs4 import BeautifulSoup\n",
        "import requests\n",
        "from urllib.request import urlopen, Request\n",
        "import matplotlib.pyplot as plt\n",
        "import pandas as pd\n",
        "import re\n",
        "from nltk.sentiment.vader import SentimentIntensityAnalyzer"
      ],
      "execution_count": 2,
      "outputs": [
        {
          "output_type": "stream",
          "text": [
            "/usr/local/lib/python3.7/dist-packages/nltk/twitter/__init__.py:20: UserWarning: The twython library has not been installed. Some functionality from the twitter package will not be available.\n",
            "  warnings.warn(\"The twython library has not been installed. \"\n"
          ],
          "name": "stderr"
        }
      ]
    },
    {
      "cell_type": "code",
      "metadata": {
        "id": "rENiPJifzpM9"
      },
      "source": [
        "finvizurl = 'https://finviz.com/quote.ashx?t='\n",
        "\n",
        " \n",
        "tickers = ['GME', 'AMC', 'TSLA']\n",
        "\n",
        "\n",
        "news_tables = {}\n",
        "\n",
        "for ticker in tickers:\n",
        "  url = finvizurl + ticker\n",
        "  req = Request(url=url, headers={'user-agent': 'my-app'})\n",
        "  response = urlopen(req)\n",
        "\n",
        "  html = BeautifulSoup(response, 'html')\n",
        "  news_table = html.find(id='news-table')\n",
        "  news_tables[ticker] = news_table"
      ],
      "execution_count": 3,
      "outputs": []
    },
    {
      "cell_type": "code",
      "metadata": {
        "colab": {
          "base_uri": "https://localhost:8080/"
        },
        "id": "eTq1szTez_AT",
        "outputId": "1156563b-3753-4a4c-efbe-58cefe17244c"
      },
      "source": [
        "parsed_data = []\n",
        "#iterating over key and value pairs for every single keyvalue in news table dictionary\n",
        "for ticker, news_table in news_tables.items():\n",
        "  for row in news_table.findAll('tr'):\n",
        "    title = row.a.text #same as get_text()\n",
        "    date_info = row.td.text.split(' ')\n",
        "    if len(date_info) == 1:\n",
        "      time = date_info[0]\n",
        "    else:\n",
        "      date = date_info[0]\n",
        "      time = date_info[1]\n",
        "    parsed_data.append([ticker, date, time, title])\n",
        "\n",
        "print(parsed_data)"
      ],
      "execution_count": 4,
      "outputs": [
        {
          "output_type": "stream",
          "text": [
            "[['GME', 'Jul-29-21', '01:04PM\\xa0\\xa0', 'Top Stocks for August 2021'], ['GME', 'Jul-29-21', '10:21AM\\xa0\\xa0', \"Retail investors replaced hedge funds as 'the 800-pound gorilla in the room,' former NYSE trader says\"], ['GME', 'Jul-28-21', '01:11PM\\xa0\\xa0', 'Citadel would buy Robinhood if regulators crack down on this one money-maker: Interactive Brokers founder'], ['GME', 'Jul-28-21', '01:04PM\\xa0\\xa0', 'Why Shares of Lakeland Financial Are Trading Higher Today'], ['GME', 'Jul-28-21', '01:00PM\\xa0\\xa0', 'GameStop Does Some Rebranding, Gains Twitter Nod'], ['GME', 'Jul-28-21', '11:12AM\\xa0\\xa0', 'Twitter to Let Retailers Add Products to Their Profiles in\\xa0Shopping Push'], ['GME', 'Jul-28-21', '10:51AM\\xa0\\xa0', 'Why BlackBerry Is Soaring While AMC and GameStop Fall'], ['GME', 'Jul-28-21', '10:21AM\\xa0\\xa0', \"Robinhood's meme stock status fuels IPO uncertainty\"], ['GME', 'Jul-28-21', '06:55AM\\xa0\\xa0', 'GameStop to change name of EB Games locations in Canada to GameStop'], ['GME', 'Jul-28-21', '06:45AM\\xa0\\xa0', 'GameStop to Rebrand EB Games in Canada'], ['GME', 'Jul-27-21', '05:50PM\\xa0\\xa0', \"GXO Logistics, Victoria's Secret & GameStop Set to Join S&P MidCap 400; Strategic Education, World Fuel Services & Lakeland Financial to Join S&P SmallCap 600\"], ['GME', 'Jul-27-21', '01:31PM\\xa0\\xa0', '4 Reasons to Avoid the Robinhood IPO'], ['GME', 'Jul-27-21', '11:45AM\\xa0\\xa0', 'INVESTOR ALERT: Labaton Sucharow Pursuing Arbitration for Robinhood Trading Restrictions; Traders with Losses Encouraged to Contact the Firm'], ['GME', 'Jul-27-21', '10:30AM\\xa0\\xa0', 'Forget Amazon, Is GameStop Really Trying to Be the \"Best Buy of Gaming?\"'], ['GME', 'Jul-26-21', '05:45PM\\xa0\\xa0', 'GameStop (GME) Outpaces Stock Market Gains: What You Should Know'], ['GME', 'Jul-26-21', '02:42PM\\xa0\\xa0', 'Former NYSE trader on the rise of meme stocks'], ['GME', 'Jul-26-21', '01:59PM\\xa0\\xa0', 'Charting the rise of meme stocks'], ['GME', 'Jul-26-21', '01:25PM\\xa0\\xa0', 'WallStreetBets Founder on how meme stock craze began'], ['GME', 'Jul-26-21', '01:23PM\\xa0\\xa0', 'Individual investors impact on Wall Street'], ['GME', 'Jul-26-21', '07:00AM\\xa0\\xa0', 'Why GameStop was flashing bullish signs when it was a $5 stock'], ['GME', 'Jul-25-21', '09:18PM\\xa0\\xa0', '10 Most-Shorted Stocks Reddits WallStreetBets Is Paying Attention To'], ['GME', 'Jul-25-21', '07:15PM\\xa0\\xa0', 'Why Short Sellers Are Desperately Trying (And Failing) To Sink Recon Africa'], ['GME', 'Jul-24-21', '11:57AM\\xa0\\xa0', 'Why GameStop Beat the Market by 3-to-1 This Week'], ['GME', 'Jul-23-21', '05:50PM\\xa0\\xa0', 'GameStop (GME) Gains But Lags Market: What You Should Know'], ['GME', 'Jul-23-21', '01:55PM\\xa0\\xa0', \"Robinhood's unorthodox IPO roadshow: How to watch and what to expect\"], ['GME', 'Jul-23-21', '01:09PM\\xa0\\xa0', 'Why Shares of AMC, GameStop, and Sundial Growers Are All Lower Today'], ['GME', 'Jul-23-21', '11:28AM\\xa0\\xa0', 'Trade GameStop Shares With Confidence and No Emotions'], ['GME', 'Jul-23-21', '11:15AM\\xa0\\xa0', 'INVESTOR ALERT: Labaton Sucharow Pursuing Arbitration for Robinhood Trading Restrictions; Traders with Losses Encouraged to Contact the Firm'], ['GME', 'Jul-22-21', '08:00PM\\xa0\\xa0', 'FT stockpicking contest: winners and losers at the half way mark'], ['GME', 'Jul-22-21', '12:28PM\\xa0\\xa0', 'Why AMC, GameStop, and Virgin Galactic Were Falling Today'], ['GME', 'Jul-22-21', '05:10AM\\xa0\\xa0', 'Flush from Reddit rally, GameStop plots store revival'], ['GME', 'Jul-22-21', '05:05AM\\xa0\\xa0', 'Flush from Reddit rally, GameStop plots store revival'], ['GME', 'Jul-22-21', '05:00AM\\xa0\\xa0', 'INSIGHT-Flush from Reddit rally, GameStop plots store revival'], ['GME', 'Jul-22-21', '04:51AM\\xa0\\xa0', 'AJ Bell and IG benefit from continued retail trading boom'], ['GME', 'Jul-21-21', '12:33PM\\xa0\\xa0', 'Why AMC and Other Meme Stocks Moved Today'], ['GME', 'Jul-21-21', '09:57AM\\xa0\\xa0', \"Crash Of AMC, Other 'Meme Stocks,' Erases Nearly Half Of Gains; $26 Billion Gone\"], ['GME', 'Jul-20-21', '06:24PM\\xa0\\xa0', 'Meme Stocks GameStop and AMC Bounce Back. Short Sellers Got Burned Again.'], ['GME', 'Jul-20-21', '05:16PM\\xa0\\xa0', 'Why GameStop, Express, and Newegg Stocks All Surged Higher Today'], ['GME', 'Jul-20-21', '04:58PM\\xa0\\xa0', \"Netflix confirms it's diving deeper into the video game industry with free mobile games\"], ['GME', 'Jul-20-21', '01:45PM\\xa0\\xa0', 'Dow Jones Rallies As Boeing Gains; Virgin Galactic Falls As Bezos Blasts Off; AMC Stock Surges'], ['GME', 'Jul-20-21', '09:00AM\\xa0\\xa0', 'INVESTOR ALERT: Labaton Sucharow Pursuing Arbitration for Robinhood Trading Restrictions; Traders with Losses Encouraged to Contact the Firm'], ['GME', 'Jul-20-21', '08:00AM\\xa0\\xa0', 'Reddit Stocks and Why Real Estate Investors Should Absolutely Avoid Them'], ['GME', 'Jul-20-21', '06:06AM\\xa0\\xa0', \"It's Time to Book Profits in These 3 Ultra-Popular Stocks\"], ['GME', 'Jul-19-21', '08:44PM\\xa0\\xa0', 'Rosen Law Announces Updated Lead Plaintiff Deadline in Securities Class Action Lawsuits on Behalf of Investors Unable to Execute Trades and Who Sold and/or Purchased Certain Securities on the Robinhood Trading Platform on or Around January 28, 2021'], ['GME', 'Jul-19-21', '04:58PM\\xa0\\xa0', 'GameStop stock thrives despite Mondays market carnage'], ['GME', 'Jul-19-21', '04:32PM\\xa0\\xa0', 'Robinhood Expects IPO to Value Trading App at About $33 Billion'], ['GME', 'Jul-19-21', '04:30PM\\xa0\\xa0', 'Dow Jones Sinks 725 Points Amid Covid Delta Variant Fears; Virgin Galactic Blasts Off; AMC Dips'], ['GME', 'Jul-19-21', '04:23PM\\xa0\\xa0', 'Meme Stocks Mired in Longest Losing Run Since Frenzy Began'], ['GME', 'Jul-19-21', '01:07PM\\xa0\\xa0', 'Meme Stock Crash: 10 Worst-Performing Stocks of Reddits WallStreetBets'], ['GME', 'Jul-19-21', '12:52PM\\xa0\\xa0', 'Top Consumer Discretionary Stocks for August 2021'], ['GME', 'Jul-19-21', '11:51AM\\xa0\\xa0', 'Why GameStop Is Rising While the Market Freaks Out'], ['GME', 'Jul-19-21', '10:20AM\\xa0\\xa0', 'Robinhood seeks $35 billion valuation in upcoming IPO'], ['GME', 'Jul-19-21', '10:09AM\\xa0\\xa0', 'GameStop Up as AMC, Other Meme Stocks Dive in Market Swoon'], ['GME', 'Jul-18-21', '09:07AM\\xa0\\xa0', 'How Much More Does GameStop Have to Fall Before You Can Buy It?'], ['GME', 'Jul-17-21', '10:22AM\\xa0\\xa0', 'Beyond GameStop: Reddits WallStreetBets is Now Targeting These 10 Stocks'], ['GME', 'Jul-16-21', '05:15PM\\xa0\\xa0', 'Why AMC, GameStop, and Newegg Were All Over the Place Today'], ['GME', 'Jul-16-21', '04:24PM\\xa0\\xa0', 'Want to Make $1 Million? Market Manipulation Is Back! (Thanks to Social Media)'], ['GME', 'Jul-16-21', '03:58PM\\xa0\\xa0', '3 Canaries Worth Watching in the Markets Most-Shorted Stocks'], ['GME', 'Jul-16-21', '12:27PM\\xa0\\xa0', '15 Best Jim Cramer Stocks to Buy Now'], ['GME', 'Jul-16-21', '09:00AM\\xa0\\xa0', 'INVESTOR ALERT: Labaton Sucharow Pursuing Arbitration for Robinhood Trading Restrictions; Traders with Losses Encouraged to Contact the Firm'], ['GME', 'Jul-16-21', '08:23AM\\xa0\\xa0', 'GameStop stock extends bounce off 2-month low, set to snap 5-day losing streak'], ['GME', 'Jul-16-21', '08:00AM\\xa0\\xa0', \"$26 Billion Gone! 'Meme Stock' Crash Erases Nearly Half Of Gains\"], ['GME', 'Jul-16-21', '05:02AM\\xa0\\xa0', 'Market history suggests stocks will keep climbing this year: Morning Brief'], ['GME', 'Jul-15-21', '05:50PM\\xa0\\xa0', 'GameStop (GME) Dips More Than Broader Markets: What You Should Know'], ['GME', 'Jul-15-21', '05:19PM\\xa0\\xa0', 'Todays Market Wrap Up and a Glimpse Into Friday'], ['GME', 'Jul-15-21', '05:16PM\\xa0\\xa0', 'AMC, GameStop Swing as Meme Stocks Run Out of Air'], ['GME', 'Jul-15-21', '04:55PM\\xa0\\xa0', 'Why BlackBerry, GameStop, and Kodak Stocks Got Destroyed This Week'], ['GME', 'Jul-15-21', '04:27PM\\xa0\\xa0', 'Despite Rebound, AMC Stock Has Lost Nearly Half of Its Gains in a Month'], ['GME', 'Jul-15-21', '03:20PM\\xa0\\xa0', 'Bloodied but unbowed, some retail traders holding meme stocks are fighting back after brutal week'], ['GME', 'Jul-15-21', '02:28PM\\xa0\\xa0', 'AMC shares attempt a comeback, GameStop falls'], ['GME', 'Jul-15-21', '01:14PM\\xa0\\xa0', 'This Nasdaq Giant Is Spoiling the Meme Stock Party'], ['GME', 'Jul-15-21', '12:21PM\\xa0\\xa0', 'Why Shares of GameStop Are Falling Today'], ['GME', 'Jul-15-21', '10:19AM\\xa0\\xa0', 'Meme stocks fall from June highs, Netflix explores gaming with new hire'], ['GME', 'Jul-15-21', '08:33AM\\xa0\\xa0', 'GameStop Stock Is Falling Back to Reality. Blame Netflix.'], ['GME', 'Jul-15-21', '07:33AM\\xa0\\xa0', 'Netflix Plans to Offer Video Games in Push Beyond Films, TV'], ['GME', 'Jul-15-21', '07:01AM\\xa0\\xa0', 'A benchmark-beating robot thinks AMC will outperform Facebook and GameStop. It likes these other stocks, too.'], ['GME', 'Jul-15-21', '07:00AM\\xa0\\xa0', 'Webinar: How to invest in meme stocks while managing trading risk'], ['GME', 'Jul-15-21', '06:41AM\\xa0\\xa0', 'GameStop shares slide 6% premarket after Netflix makes first videogame hire signaling potential shakeup of sector'], ['GME', 'Jul-15-21', '06:07AM\\xa0\\xa0', 'AMC and Verb Tech Rise, GameStop Slips Among Meme Stocks in Focus'], ['GME', 'Jul-15-21', '06:03AM\\xa0\\xa0', 'Netflix Shares Leap on Reports of Streaming Video Game Push'], ['GME', 'Jul-15-21', '06:00AM\\xa0\\xa0', 'We stand by our decision to fire viral employee Amy Cooper: Franklin Templeton CEO'], ['GME', 'Jul-15-21', '06:00AM\\xa0\\xa0', 'Influencers with Andy Serwer: Jenny Johnson'], ['GME', 'Jul-15-21', '04:39AM\\xa0\\xa0', 'Premarket Movers Thursday: AIG, Netflix, GameStop'], ['GME', 'Jul-15-21', '03:10AM\\xa0\\xa0', \"GameStop? AMC? 'Diamond Hand' Meme Trading Always Disintegrates\"], ['GME', 'Jul-14-21', '08:00PM\\xa0\\xa0', 'Meet the teen investors of the future'], ['GME', 'Jul-14-21', '06:30PM\\xa0\\xa0', \"These meme stocks are, 'generating some bad habits, actually a gambling habit, for many investors': CEO of Ty J. Young Wealth Management\"], ['GME', 'Jul-14-21', '04:54PM\\xa0\\xa0', 'Dow Jones Futures: Apple Masks Weak Market Rally Trends; Upwork, Figs, AMC Plunge'], ['GME', 'Jul-14-21', '04:37PM\\xa0\\xa0', 'GameStop Investors Speculate on Meme Stocks NFT Launch'], ['GME', 'Jul-14-21', '04:33PM\\xa0\\xa0', 'Dow Jones Rebounds As Powell Says This On Inflation; Virgin Galactic, AMC Stock Plunge'], ['GME', 'Jul-14-21', '04:00PM\\xa0\\xa0', 'AMC, GameStop shares fall to half of their June peaks'], ['GME', 'Jul-14-21', '10:57AM\\xa0\\xa0', \"AMC Entertainment's Slide Continues in Meme Stock Burnout\"], ['GME', 'Jul-14-21', '10:49AM\\xa0\\xa0', '10 Hedge Funds that Profited from Reddits Meme Stock Craze'], ['GME', 'Jul-14-21', '10:00AM\\xa0\\xa0', 'Candace Parker Graces NBA 2K Game Cover as First WNBA Player'], ['GME', 'Jul-14-21', '09:50AM\\xa0\\xa0', \"'You could lose everything' on meme stocks: Franklin Templeton CEO\"], ['GME', 'Jul-14-21', '06:00AM\\xa0\\xa0', 'You could lose everything investing in meme stocks: Franklin Templeton CEO'], ['GME', 'Jul-13-21', '10:36AM\\xa0\\xa0', 'How Much $10,000 Invested This Year In AMC Stock Is Worth Now'], ['GME', 'Jul-13-21', '09:30AM\\xa0\\xa0', 'NOTICE TO ROBINHOOD CUSTOMERS: The Securities Arbitration Law Firm of KlaymanToskes Is Investigating FINRA Arbitration Claims Concerning the January 2021 Trading Restrictions on Gamestop'], ['GME', 'Jul-13-21', '09:00AM\\xa0\\xa0', 'INVESTOR ALERT: Labaton Sucharow Pursuing Arbitration for Robinhood Trading Restrictions; Traders with Losses Encouraged to Contact the Firm'], ['GME', 'Jul-12-21', '05:01PM\\xa0\\xa0', '10 Reddits WallStreetBets Meme Stocks Hedge Funds are Piling Into'], ['GME', 'Jul-12-21', '02:20PM\\xa0\\xa0', 'GameStop Stuck at Current Level as Investors Hunt Bottom'], ['AMC', 'Jul-29-21', '10:21AM\\xa0\\xa0', \"Retail investors replaced hedge funds as 'the 800-pound gorilla in the room,' former NYSE trader says\"], ['AMC', 'Jul-29-21', '08:11AM\\xa0\\xa0', '2 Reasons to Sell AMC Stock'], ['AMC', 'Jul-29-21', '06:06AM\\xa0\\xa0', 'These Ultra-Popular Stocks May Fall 50% to 97%, According to Wall Street'], ['AMC', 'Jul-28-21', '01:11PM\\xa0\\xa0', 'Citadel would buy Robinhood if regulators crack down on this one money-maker: Interactive Brokers founder'], ['AMC', 'Jul-28-21', '12:02PM\\xa0\\xa0', 'Is It Time to Sell AMC Stock and Buy IMAX?'], ['AMC', 'Jul-28-21', '12:01PM\\xa0\\xa0', \"Is AMC Stock A Buy Or Sell Now? Here's What Fundamentals, Stock Chart Action, Mutual Fund Ownership Metrics Say\"], ['AMC', 'Jul-28-21', '10:51AM\\xa0\\xa0', 'Why BlackBerry Is Soaring While AMC and GameStop Fall'], ['AMC', 'Jul-28-21', '06:51AM\\xa0\\xa0', '1 Real Estate Stock to Watch in the Second Half of 2021'], ['AMC', 'Jul-27-21', '01:05PM\\xa0\\xa0', 'Why AMC Entertainment Is Falling Today'], ['AMC', 'Jul-27-21', '11:45AM\\xa0\\xa0', 'INVESTOR ALERT: Labaton Sucharow Pursuing Arbitration for Robinhood Trading Restrictions; Traders with Losses Encouraged to Contact the Firm'], ['AMC', 'Jul-27-21', '08:00AM\\xa0\\xa0', 'IPO Edge Editor Jannarone: Robinhood is More of a Casino Than a Brokerage  Cheddar TV'], ['AMC', 'Jul-27-21', '06:10AM\\xa0\\xa0', 'These 3 Cheap Growth Stocks Should Easily Beat AMC'], ['AMC', 'Jul-26-21', '02:42PM\\xa0\\xa0', 'Former NYSE trader on the rise of meme stocks'], ['AMC', 'Jul-26-21', '01:59PM\\xa0\\xa0', 'Charting the rise of meme stocks'], ['AMC', 'Jul-26-21', '01:25PM\\xa0\\xa0', 'WallStreetBets Founder on how meme stock craze began'], ['AMC', 'Jul-26-21', '01:23PM\\xa0\\xa0', 'Individual investors impact on Wall Street'], ['AMC', 'Jul-26-21', '12:57PM\\xa0\\xa0', 'Is AMC Entertainment Holdings (AMC) A Worthy Investment Pick?'], ['AMC', 'Jul-26-21', '10:07AM\\xa0\\xa0', 'AMC stock bounces, on early track to snap loss streak on an upbeat day for meme stocks'], ['AMC', 'Jul-26-21', '09:33AM\\xa0\\xa0', 'Instead of AMC, Buy This Reopening Stock'], ['AMC', 'Jul-26-21', '08:35AM\\xa0\\xa0', '3 Stocks to Avoid This Week'], ['AMC', 'Jul-25-21', '09:18PM\\xa0\\xa0', '10 Most-Shorted Stocks Reddits WallStreetBets Is Paying Attention To'], ['AMC', 'Jul-25-21', '07:15PM\\xa0\\xa0', 'Why Short Sellers Are Desperately Trying (And Failing) To Sink Recon Africa'], ['AMC', 'Jul-23-21', '03:16PM\\xa0\\xa0', 'Dow Jones Surges As Snap Stock Passes Buy; Virgin Galactic Dives Again; AMC Stock Dips'], ['AMC', 'Jul-23-21', '01:09PM\\xa0\\xa0', 'Why Shares of AMC, GameStop, and Sundial Growers Are All Lower Today'], ['AMC', 'Jul-23-21', '11:15AM\\xa0\\xa0', 'INVESTOR ALERT: Labaton Sucharow Pursuing Arbitration for Robinhood Trading Restrictions; Traders with Losses Encouraged to Contact the Firm'], ['AMC', 'Jul-23-21', '09:17AM\\xa0\\xa0', 'AMC Stock Cult Tries to Raise Capital in Decidedly Apish Fashion'], ['AMC', 'Jul-23-21', '07:53AM\\xa0\\xa0', \"AMC CEO Is Buying the Dip, But It's Not What You Think\"], ['AMC', 'Jul-23-21', '06:06AM\\xa0\\xa0', 'The Damaging AMC Entertainment Data Point No One Is Paying Attention To'], ['AMC', 'Jul-22-21', '08:00PM\\xa0\\xa0', 'FT stockpicking contest: winners and losers at the half way mark'], ['AMC', 'Jul-22-21', '04:57PM\\xa0\\xa0', \"Dimensional's Mutual Fund to ETF Conversion, Midyear Outlook and More\"], ['AMC', 'Jul-22-21', '04:21PM\\xa0\\xa0', 'Dow Jones Up As Apple Pops; Lucid Motors Vote Delayed; Virgin Galactic, AMC Stock Dive'], ['AMC', 'Jul-22-21', '02:01PM\\xa0\\xa0', \"Here's how to trade AMC with candlestick charts and simple moving averages\"], ['AMC', 'Jul-22-21', '12:28PM\\xa0\\xa0', 'Why AMC, GameStop, and Virgin Galactic Were Falling Today'], ['AMC', 'Jul-22-21', '11:49AM\\xa0\\xa0', 'AMC Gets Low Priced Tag in New ETF Hit by Indexing Quirk'], ['AMC', 'Jul-22-21', '08:45AM\\xa0\\xa0', '1 Underappreciated Reason Not to Own AMC Stock'], ['AMC', 'Jul-21-21', '02:36PM\\xa0\\xa0', \"Cramer's Mad Money Recap: Netflix, AMC, Amazon\"], ['AMC', 'Jul-21-21', '01:56PM\\xa0\\xa0', 'Dow Jones Rallies As Growth Stocks Shine; Netflix Gets Mauled; AMC Dips, Virgin Galactic Gains'], ['AMC', 'Jul-21-21', '12:33PM\\xa0\\xa0', 'Why AMC and Other Meme Stocks Moved Today'], ['AMC', 'Jul-21-21', '11:18AM\\xa0\\xa0', 'AMC Entertainment taps CEO Adam Aron as board chair'], ['AMC', 'Jul-21-21', '09:57AM\\xa0\\xa0', \"Crash Of AMC, Other 'Meme Stocks,' Erases Nearly Half Of Gains; $26 Billion Gone\"], ['AMC', 'Jul-21-21', '08:39AM\\xa0\\xa0', 'AMC board names CEO Adam Aron as chairman'], ['AMC', 'Jul-21-21', '08:35AM\\xa0\\xa0', 'AMC board names CEO Adam Aron as chairman'], ['AMC', 'Jul-21-21', '08:11AM\\xa0\\xa0', \"AMC CEO Adam Aron named chairman of the cinema operator's board\"], ['AMC', 'Jul-21-21', '08:00AM\\xa0\\xa0', 'AMC Entertainment Holdings, Inc. Appoints Adam Aron as Chairman of the Board & CEO and Philip Lader as Lead Director'], ['AMC', 'Jul-20-21', '10:48PM\\xa0\\xa0', 'Here is What Hedge Funds Think About AMC Entertainment Holdings Inc (AMC)'], ['AMC', 'Jul-20-21', '05:46PM\\xa0\\xa0', 'AMC Entertainment shares up almost 25% as trading volume climbs'], ['AMC', 'Jul-20-21', '01:45PM\\xa0\\xa0', 'Dow Jones Rallies As Boeing Gains; Virgin Galactic Falls As Bezos Blasts Off; AMC Stock Surges'], ['AMC', 'Jul-20-21', '12:50PM\\xa0\\xa0', 'Hedge Fund Born in Pandemic Reaps 23% Gain From AMC, Hertz'], ['AMC', 'Jul-20-21', '10:59AM\\xa0\\xa0', 'Why AMC Stock Bounced Tuesday'], ['AMC', 'Jul-20-21', '09:00AM\\xa0\\xa0', 'INVESTOR ALERT: Labaton Sucharow Pursuing Arbitration for Robinhood Trading Restrictions; Traders with Losses Encouraged to Contact the Firm'], ['AMC', 'Jul-20-21', '06:06AM\\xa0\\xa0', \"It's Time to Book Profits in These 3 Ultra-Popular Stocks\"], ['AMC', 'Jul-19-21', '08:44PM\\xa0\\xa0', 'Rosen Law Announces Updated Lead Plaintiff Deadline in Securities Class Action Lawsuits on Behalf of Investors Unable to Execute Trades and Who Sold and/or Purchased Certain Securities on the Robinhood Trading Platform on or Around January 28, 2021'], ['AMC', 'Jul-19-21', '05:45PM\\xa0\\xa0', 'AMC Entertainment (AMC) Stock Moves -0.97%: What You Should Know'], ['AMC', 'Jul-19-21', '05:02PM\\xa0\\xa0', 'Todays Market Wrap Up and a Glimpse Into Tuesday'], ['AMC', 'Jul-19-21', '04:30PM\\xa0\\xa0', 'Dow Jones Sinks 725 Points Amid Covid Delta Variant Fears; Virgin Galactic Blasts Off; AMC Dips'], ['AMC', 'Jul-19-21', '04:30PM\\xa0\\xa0', 'AMC Entertainment Holdings, Inc. Reaches Agreement to Reopen The Grove Theatre and The Americana at Brand Theatre in the Los Angeles Area'], ['AMC', 'Jul-19-21', '04:23PM\\xa0\\xa0', 'Meme Stocks Mired in Longest Losing Run Since Frenzy Began'], ['AMC', 'Jul-19-21', '01:07PM\\xa0\\xa0', 'Meme Stock Crash: 10 Worst-Performing Stocks of Reddits WallStreetBets'], ['AMC', 'Jul-19-21', '11:36AM\\xa0\\xa0', 'Why AMC Entertainment Stock Was Falling Today'], ['AMC', 'Jul-19-21', '10:20AM\\xa0\\xa0', 'Robinhood seeks $35 billion valuation in upcoming IPO'], ['AMC', 'Jul-17-21', '10:22AM\\xa0\\xa0', 'Beyond GameStop: Reddits WallStreetBets is Now Targeting These 10 Stocks'], ['AMC', 'Jul-17-21', '08:35AM\\xa0\\xa0', 'Is There Any Hope Left for AMC Entertainment Stock?'], ['AMC', 'Jul-16-21', '05:15PM\\xa0\\xa0', 'Why AMC, GameStop, and Newegg Were All Over the Place Today'], ['AMC', 'Jul-16-21', '03:58PM\\xa0\\xa0', '3 Canaries Worth Watching in the Markets Most-Shorted Stocks'], ['AMC', 'Jul-16-21', '03:11PM\\xa0\\xa0', 'Dow Jones Dips As Yellen Issues Inflation Warning; Virgin Galactic, AMC Make Huge Losses'], ['AMC', 'Jul-16-21', '12:37PM\\xa0\\xa0', 'Why AMC Stock Is Plunging (Again) This Week, and Cineworld and Cinemark Are Following Suit'], ['AMC', 'Jul-16-21', '12:27PM\\xa0\\xa0', '15 Best Jim Cramer Stocks to Buy Now'], ['AMC', 'Jul-16-21', '10:35AM\\xa0\\xa0', 'Summer Blockbusters Are Back! What That Means for AMC Stock'], ['AMC', 'Jul-16-21', '09:00AM\\xa0\\xa0', 'INVESTOR ALERT: Labaton Sucharow Pursuing Arbitration for Robinhood Trading Restrictions; Traders with Losses Encouraged to Contact the Firm'], ['AMC', 'Jul-16-21', '08:23AM\\xa0\\xa0', 'GameStop stock extends bounce off 2-month low, set to snap 5-day losing streak'], ['AMC', 'Jul-16-21', '08:00AM\\xa0\\xa0', \"$26 Billion Gone! 'Meme Stock' Crash Erases Nearly Half Of Gains\"], ['AMC', 'Jul-16-21', '06:06AM\\xa0\\xa0', \"It's Game Over for AMC, but These Stocks Can Still Go to the Moon\"], ['AMC', 'Jul-16-21', '05:02AM\\xa0\\xa0', 'Market history suggests stocks will keep climbing this year: Morning Brief'], ['AMC', 'Jul-15-21', '05:16PM\\xa0\\xa0', 'AMC, GameStop Swing as Meme Stocks Run Out of Air'], ['AMC', 'Jul-15-21', '02:47PM\\xa0\\xa0', 'Morgan Stanley slips, TSMC falls, Netflix gains as AMC bounce back'], ['AMC', 'Jul-15-21', '02:28PM\\xa0\\xa0', 'AMC shares attempt a comeback, GameStop falls'], ['AMC', 'Jul-15-21', '01:00PM\\xa0\\xa0', 'Dow Jones Reverses, Tech Stocks Slide As Powell Defends Fed Policy; Tesla Skids, AMC Stock Surges'], ['AMC', 'Jul-15-21', '11:28AM\\xa0\\xa0', 'Stock Market Today With Jim Cramer: Buy Puts or Take Profits in AMC'], ['AMC', 'Jul-15-21', '10:19AM\\xa0\\xa0', 'Meme stocks fall from June highs, Netflix explores gaming with new hire'], ['AMC', 'Jul-15-21', '10:00AM\\xa0\\xa0', 'Has AMC Stock Just Hit Bottom or Is This Selloff Just the Beginning?'], ['AMC', 'Jul-15-21', '07:46AM\\xa0\\xa0', 'Is Sundial Growers a Better Growth Stock Than AMC?'], ['AMC', 'Jul-15-21', '07:00AM\\xa0\\xa0', 'Webinar: How to invest in meme stocks while managing trading risk'], ['AMC', 'Jul-15-21', '06:07AM\\xa0\\xa0', 'AMC and Verb Tech Rise, GameStop Slips Among Meme Stocks in Focus'], ['AMC', 'Jul-15-21', '06:00AM\\xa0\\xa0', 'We stand by our decision to fire viral employee Amy Cooper: Franklin Templeton CEO'], ['AMC', 'Jul-15-21', '06:00AM\\xa0\\xa0', 'Reddit Traders Are Upending the World of Credit Investing, Too'], ['AMC', 'Jul-15-21', '06:00AM\\xa0\\xa0', 'Influencers with Andy Serwer: Jenny Johnson'], ['AMC', 'Jul-14-21', '06:30PM\\xa0\\xa0', \"These meme stocks are, 'generating some bad habits, actually a gambling habit, for many investors': CEO of Ty J. Young Wealth Management\"], ['AMC', 'Jul-14-21', '04:33PM\\xa0\\xa0', 'Dow Jones Rebounds As Powell Says This On Inflation; Virgin Galactic, AMC Stock Plunge'], ['AMC', 'Jul-14-21', '04:00PM\\xa0\\xa0', 'AMC, GameStop shares fall to half of their June peaks'], ['AMC', 'Jul-14-21', '11:47AM\\xa0\\xa0', 'Ignore AMC: Here Are 3 Better Stocks'], ['AMC', 'Jul-14-21', '11:17AM\\xa0\\xa0', 'Why AMC Stock Is Down By 11% Today'], ['AMC', 'Jul-14-21', '11:00AM\\xa0\\xa0', 'Fathom Events, LAIKA, Shout! Factory and Park Circus Team Up to Bring Fan Favorites Back to Theaters'], ['AMC', 'Jul-14-21', '10:57AM\\xa0\\xa0', \"AMC Entertainment's Slide Continues in Meme Stock Burnout\"], ['AMC', 'Jul-14-21', '10:49AM\\xa0\\xa0', '10 Hedge Funds that Profited from Reddits Meme Stock Craze'], ['AMC', 'Jul-14-21', '09:50AM\\xa0\\xa0', \"'You could lose everything' on meme stocks: Franklin Templeton CEO\"], ['AMC', 'Jul-14-21', '09:30AM\\xa0\\xa0', 'Why Robinhood Investors Are Buying More of This Stock'], ['AMC', 'Jul-14-21', '06:00AM\\xa0\\xa0', 'You could lose everything investing in meme stocks: Franklin Templeton CEO'], ['AMC', 'Jul-14-21', '06:00AM\\xa0\\xa0', 'Why Is Everyone Talking About AMC Stock?'], ['AMC', 'Jul-13-21', '03:19PM\\xa0\\xa0', 'Dow Jones Dips As Fed Official Makes This Claim Amid Inflation; Virgin Galactic Plunge Continues'], ['AMC', 'Jul-13-21', '02:23PM\\xa0\\xa0', \"Sam Raimi's Horror Classic 'THE EVIL DEAD' Returns to Cinemas Nationwide for the 40th Anniversary this October\"], ['TSLA', 'Jul-29-21', '12:36PM\\xa0\\xa0', 'The Chip-Crunch Recovery Will Be Rocky, as Apple Can Attest'], ['TSLA', 'Jul-29-21', '12:23PM\\xa0\\xa0', 'US STOCKS-S&P 500, Dow scale all-time highs as economy picks up pace'], ['TSLA', 'Jul-29-21', '12:09PM\\xa0\\xa0', 'Why Tesla Stock Jumped 5% Today'], ['TSLA', 'Jul-29-21', '12:00PM\\xa0\\xa0', 'Tesla To Hold AI Day As Rivals Ramp Up Self-Driving Efforts'], ['TSLA', 'Jul-29-21', '11:38AM\\xa0\\xa0', 'Dow Jones Rallies As U.S. GDP Disappoints; Tesla Races Higher, Robinhood IPO Set To Jump In Debut'], ['TSLA', 'Jul-29-21', '11:37AM\\xa0\\xa0', '2 Bargain Stocks You Can Buy Today'], ['TSLA', 'Jul-29-21', '10:48AM\\xa0\\xa0', 'Is Lucid Motors Stock A Buy Right Now As LCID Surges After Its Highly Anticipated IPO?'], ['TSLA', 'Jul-29-21', '10:31AM\\xa0\\xa0', 'Ford Flashes Buy Signal After Surprise Profit, Outlook Hike; Electric Truck Orders Jump'], ['TSLA', 'Jul-29-21', '10:07AM\\xa0\\xa0', 'Tesla drivers have secret script to dodge questions about Elon Musk, the Boring Company and Autopilot crashes'], ['TSLA', 'Jul-29-21', '09:53AM\\xa0\\xa0', 'AMD CEO on chip shortage: things will improve'], ['TSLA', 'Jul-29-21', '08:30AM\\xa0\\xa0', 'Join Blackstone and CBRE in the Roof to Socket Revolution with Altus Power'], ['TSLA', 'Jul-29-21', '08:25AM\\xa0\\xa0', 'Is GM Stock A Buy? General Motors Rises Ahead Of Earnings'], ['TSLA', 'Jul-29-21', '08:20AM\\xa0\\xa0', 'Are SafeMoon and Dogecoin Safe Investments?'], ['TSLA', 'Jul-29-21', '07:21AM\\xa0\\xa0', 'Ford quickly reaches 120,000 orders for its Tesla Cybertruck rival'], ['TSLA', 'Jul-29-21', '06:00AM\\xa0\\xa0', 'Proposed carbon tariffs not a bad thing: WWF International President'], ['TSLA', 'Jul-29-21', '06:00AM\\xa0\\xa0', 'Influencers with Andy Serwer: Pavan Sukhdev'], ['TSLA', 'Jul-28-21', '08:26PM\\xa0\\xa0', 'Join Spire Global CEO in Fireside Chat at 1pm ET on Wednesday, August 4'], ['TSLA', 'Jul-28-21', '06:00PM\\xa0\\xa0', \"Tesla's Moving Out of Malls...And Into Their Parking Lots\"], ['TSLA', 'Jul-28-21', '05:47PM\\xa0\\xa0', 'Is Li Auto Stock A Buy Now? Shares Volatile Amid China Regulatory Fears'], ['TSLA', 'Jul-28-21', '04:36PM\\xa0\\xa0', 'Ford earnings beat Q2 estimates'], ['TSLA', 'Jul-28-21', '04:17PM\\xa0\\xa0', 'EV Trucks: Will They Fly?'], ['TSLA', 'Jul-28-21', '03:24PM\\xa0\\xa0', 'Top Research Reports for Tesla, Disney & Wells Fargo'], ['TSLA', 'Jul-28-21', '03:07PM\\xa0\\xa0', 'Tesla Blew Away Earnings. Shares Fell. What Gives?'], ['TSLA', 'Jul-28-21', '12:54PM\\xa0\\xa0', 'Tesla Blew Away Earnings. Shares Fell. What Gives?'], ['TSLA', 'Jul-28-21', '12:50PM\\xa0\\xa0', 'These Are The Best EV Stocks To Buy And Watch Now'], ['TSLA', 'Jul-28-21', '12:34PM\\xa0\\xa0', 'Tesla (TSLA) Stock Falls Despite Record Earnings Report'], ['TSLA', 'Jul-28-21', '11:16AM\\xa0\\xa0', '10 Best Low Float Stocks to Buy Now'], ['TSLA', 'Jul-28-21', '10:18AM\\xa0\\xa0', '10 Best Used Car Stocks to Buy'], ['TSLA', 'Jul-28-21', '10:11AM\\xa0\\xa0', 'The Next Step In EV Revolution  The Battery'], ['TSLA', 'Jul-28-21', '10:07AM\\xa0\\xa0', 'Tesla Delivers Another Earnings Spectacle With Record Net Income'], ['TSLA', 'Jul-28-21', '09:16AM\\xa0\\xa0', 'WWF International President: Bitcoin is not a currency'], ['TSLA', 'Jul-28-21', '09:00AM\\xa0\\xa0', 'Average new car price hits record $41,000'], ['TSLA', 'Jul-28-21', '06:06AM\\xa0\\xa0', 'Analysis-Tesla hikes electric car prices in U.S.; holds line in China'], ['TSLA', 'Jul-28-21', '06:06AM\\xa0\\xa0', 'Can These Megacap Stocks Double? Wall Street Thinks So'], ['TSLA', 'Jul-28-21', '06:03AM\\xa0\\xa0', '3 High-Growth Stocks That Could Be Worth $1 Trillion in 10 Years -- or Sooner'], ['TSLA', 'Jul-28-21', '05:51AM\\xa0\\xa0', \"Morning Bell With Jim Cramer: General Electric, Tesla's Magic, Delta Blues\"], ['TSLA', 'Jul-27-21', '04:47PM\\xa0\\xa0', 'US STOCKS-Wall St snaps five-day up streak as caution rises before tech earnings, Fed'], ['TSLA', 'Jul-27-21', '04:31PM\\xa0\\xa0', 'Chinas tech-stock crash is making me worried about the U.S. equity market'], ['TSLA', 'Jul-27-21', '04:23PM\\xa0\\xa0', 'This Type of Day Is Price of Progress in Post-Pandemic Stocks'], ['TSLA', 'Jul-27-21', '04:15PM\\xa0\\xa0', 'Dow Jones Falls As CDC Reverses Mask Policy; Apple Reports Earnings; Tesla Falls As UPS Stock Dives'], ['TSLA', 'Jul-27-21', '04:09PM\\xa0\\xa0', \"Tesla Still Leads Global EV Market, And It's Not Even Close\"], ['TSLA', 'Jul-27-21', '03:48PM\\xa0\\xa0', 'Dont Look Now, but Tesla Is a Mature Business. What It Means for the Stock.'], ['TSLA', 'Jul-27-21', '03:37PM\\xa0\\xa0', 'Lordstown Just Raised $400 Million. Why That Isnt Enough.'], ['TSLA', 'Jul-27-21', '02:53PM\\xa0\\xa0', \"Tesla's record earnings: 'There's quite a bit more to come in 2022,' analyst says\"], ['TSLA', 'Jul-27-21', '02:36PM\\xa0\\xa0', 'Why Lucid, Faraday Future, Lordstown Motors, and Other Electric-Vehicle Stocks Are Down Today'], ['TSLA', 'Jul-27-21', '12:54PM\\xa0\\xa0', 'We will be a leader in chips again: Intel CEO'], ['TSLA', 'Jul-27-21', '12:53PM\\xa0\\xa0', 'Why Tesla Lagged This Favorite Nasdaq Winner Tuesday'], ['TSLA', 'Jul-27-21', '12:41PM\\xa0\\xa0', 'Teslas noisy quarter gets mixed reviews from Wall Street'], ['TSLA', 'Jul-27-21', '12:33PM\\xa0\\xa0', 'Why Tesla Stock Fell on Tuesday'], ['TSLA', 'Jul-27-21', '12:14PM\\xa0\\xa0', 'Tesla Falls as Chip Crisis, Battery Doubts Loom Over Profit Beat'], ['TSLA', 'Jul-27-21', '12:00PM\\xa0\\xa0', \"What Elon Musk's Development Plans Could Mean for Texas\"], ['TSLA', 'Jul-27-21', '11:56AM\\xa0\\xa0', \"Why there's 'financial interest' for Elon Musk to stay as Tesla CEO: Analyst\"], ['TSLA', 'Jul-27-21', '11:50AM\\xa0\\xa0', 'Dow Jones Falls, Tech Stocks Dive As Tesla Slides On Earnings; Apple Sells Off Before Earnings'], ['TSLA', 'Jul-27-21', '11:40AM\\xa0\\xa0', \"Mobius Sees Bitcoin Going Lower, Says He's 'Leery' of Tesla\"], ['TSLA', 'Jul-27-21', '11:38AM\\xa0\\xa0', 'Biggest takeaways from Teslas record quarter'], ['TSLA', 'Jul-27-21', '11:34AM\\xa0\\xa0', \"Is Tesla Stock A Buy Right Now? Here's What Tesla Earnings, Charts Show\"], ['TSLA', 'Jul-27-21', '10:37AM\\xa0\\xa0', 'A new Austin community will come standard with Tesla solar panels and batteries'], ['TSLA', 'Jul-27-21', '10:23AM\\xa0\\xa0', 'Tesla reports first $1B quarterly profit, GE, UPS earnings beat'], ['TSLA', 'Jul-27-21', '10:15AM\\xa0\\xa0', 'Tesla (TSLA) Blows Past Estimates, Posts Record Quarter'], ['TSLA', 'Jul-27-21', '10:15AM\\xa0\\xa0', '2 Top Value Stocks to Buy Right Now'], ['TSLA', 'Jul-27-21', '10:14AM\\xa0\\xa0', 'Tesla posts record quarter  heres why it still has more room to grow'], ['TSLA', 'Jul-27-21', '10:05AM\\xa0\\xa0', \"ETFs to Buy on Tesla's Q2 Earnings Strength\"], ['TSLA', 'Jul-27-21', '10:00AM\\xa0\\xa0', \"4 Things Investors Should Know About Tesla's Earnings\"], ['TSLA', 'Jul-27-21', '09:00AM\\xa0\\xa0', 'Tesla Rises, GE Pops, and the Stock Market Is Down'], ['TSLA', 'Jul-27-21', '08:05AM\\xa0\\xa0', 'Tesla Earnings Crush Expectations: 5 Must-See Takeaways'], ['TSLA', 'Jul-27-21', '07:53AM\\xa0\\xa0', 'Dow Jones Futures Fall As Tesla Earnings Beat, While Apple Leads 4 Tech Giants Set To Report'], ['TSLA', 'Jul-27-21', '07:53AM\\xa0\\xa0', 'Teslas Earnings Came in Strong. One Thing Is Holding the Stock Back.'], ['TSLA', 'Jul-27-21', '07:51AM\\xa0\\xa0', 'Chinese Stocks Were Crushed Again. The Pain Is Spreading.'], ['TSLA', 'Jul-27-21', '06:33AM\\xa0\\xa0', 'Tesla is surviving global chip shortage by rewriting vehicle software, says Elon Musk'], ['TSLA', 'Jul-27-21', '06:10AM\\xa0\\xa0', 'Tesla Gains as First $1 Billion Quarter Adds Earnings Momentum'], ['TSLA', 'Jul-27-21', '05:51AM\\xa0\\xa0', '5 of the Fastest-Growing Stocks on the Planet'], ['TSLA', 'Jul-27-21', '05:01AM\\xa0\\xa0', 'Tesla (TSLA) Q2 2021 Earnings Call Transcript'], ['TSLA', 'Jul-27-21', '03:47AM\\xa0\\xa0', 'Bitcoin pulls back from highs as Amazon denies payment rumours'], ['TSLA', 'Jul-27-21', '02:07AM\\xa0\\xa0', 'Musk Ditches Earnings Calls, Cautions on Chip Shortage After Record Tesla Profits'], ['TSLA', 'Jul-27-21', '01:39AM\\xa0\\xa0', 'Dow Futures Lower Ahead of Apple Earnings, Fed; China Slumps on Tech Crackdown'], ['TSLA', 'Jul-27-21', '01:35AM\\xa0\\xa0', 'Tesla Gains as Results Show Dependence On Carbon Credits Falling'], ['TSLA', 'Jul-27-21', '01:06AM\\xa0\\xa0', 'Tesla, Apple, AMD, General Electric and Lucid - 5 Things You Must Know Tuesday'], ['TSLA', 'Jul-26-21', '10:14PM\\xa0\\xa0', 'Elon Musk says he is done with regular earnings calls. Tesla investors are better off.'], ['TSLA', 'Jul-26-21', '07:48PM\\xa0\\xa0', 'PRESS DIGEST-British Business - July 27'], ['TSLA', 'Jul-26-21', '06:58PM\\xa0\\xa0', \"Tesla Earnings Beat But Musk Warns On Chips, Semi Delayed; FSD Subscription 'Debatable'\"], ['TSLA', 'Jul-26-21', '05:44PM\\xa0\\xa0', 'Tesla Beats in Q2 as Indexes Set New Closing Highs'], ['TSLA', 'Jul-26-21', '05:40PM\\xa0\\xa0', \"Lucid Motors CEO market debut, retail investors, and what's next for EVs\"], ['TSLA', 'Jul-26-21', '05:35PM\\xa0\\xa0', 'Tesla (TSLA) Q2 Earnings and Revenues Top Estimates'], ['TSLA', 'Jul-26-21', '05:14PM\\xa0\\xa0', 'Tesla posts record $1.1bn profit but warns of chip shortage'], ['TSLA', 'Jul-26-21', '05:10PM\\xa0\\xa0', 'Tesla Earnings: What Happened with TSLA'], ['TSLA', 'Jul-26-21', '04:42PM\\xa0\\xa0', 'Tesla to come under tremendous pressure: GLJ Research Founder'], ['TSLA', 'Jul-26-21', '04:37PM\\xa0\\xa0', 'Tesla tops $1 billion in profit, delays Semi launch'], ['TSLA', 'Jul-26-21', '04:35PM\\xa0\\xa0', 'Is Nio Stock A Buy After Q2 Sales More Than Double?'], ['TSLA', 'Jul-26-21', '04:31PM\\xa0\\xa0', 'Tesla beats Q2 earnings estimates'], ['TSLA', 'Jul-26-21', '04:17PM\\xa0\\xa0', 'Dow Jones Gains, Nasdaq Closes Positive; Tesla Earnings Beat As Bitcoin Soars; IPO Passes Buy'], ['TSLA', 'Jul-26-21', '04:12PM\\xa0\\xa0', 'Amazon Job Posting Hints at Plan to Accept Cryptocurrency'], ['TSLA', 'Jul-26-21', '04:10PM\\xa0\\xa0', 'Tesla beats profit and revenue estimates, delays Semi launch'], ['TSLA', 'Jul-26-21', '04:07PM\\xa0\\xa0', 'Tesla Releases Second Quarter 2021 Financial Results'], ['TSLA', 'Jul-26-21', '04:00PM\\xa0\\xa0', 'US STOCKS-S&P 500 edges up as investors eye key earnings, Fed meeting'], ['TSLA', 'Jul-26-21', '03:54PM\\xa0\\xa0', 'The markets have rewarded Powell: Heritage Capital President'], ['TSLA', 'Jul-26-21', '03:45PM\\xa0\\xa0', 'Bitcoin price trades above $40,000  4 things driving the rally'], ['TSLA', 'Jul-26-21', '01:32PM\\xa0\\xa0', 'Why Tesla Stock Bounced Ahead of Earnings'], ['TSLA', 'Jul-26-21', '01:09PM\\xa0\\xa0', 'Tesla Q2 earnings: What to expect'], ['TSLA', 'Jul-26-21', '12:45PM\\xa0\\xa0', 'Tesla rival Lucid Motors jumps in public debut'], ['TSLA', 'Jul-26-21', '12:20PM\\xa0\\xa0', 'US STOCKS-Wall Street hovers near record highs before tech earnings, Fed meeting']]\n"
          ],
          "name": "stdout"
        }
      ]
    },
    {
      "cell_type": "code",
      "metadata": {
        "id": "x04JKigm0Pc9"
      },
      "source": [
        "text = pd.DataFrame(parsed_data, columns=['ticker', 'date', 'time', 'title'])"
      ],
      "execution_count": 5,
      "outputs": []
    },
    {
      "cell_type": "code",
      "metadata": {
        "colab": {
          "base_uri": "https://localhost:8080/",
          "height": 206
        },
        "id": "I6st2BoO0WiW",
        "outputId": "a2421464-b2e1-4d8e-eeb0-73e8d404bd3e"
      },
      "source": [
        "text.head()"
      ],
      "execution_count": 6,
      "outputs": [
        {
          "output_type": "execute_result",
          "data": {
            "text/html": [
              "<div>\n",
              "<style scoped>\n",
              "    .dataframe tbody tr th:only-of-type {\n",
              "        vertical-align: middle;\n",
              "    }\n",
              "\n",
              "    .dataframe tbody tr th {\n",
              "        vertical-align: top;\n",
              "    }\n",
              "\n",
              "    .dataframe thead th {\n",
              "        text-align: right;\n",
              "    }\n",
              "</style>\n",
              "<table border=\"1\" class=\"dataframe\">\n",
              "  <thead>\n",
              "    <tr style=\"text-align: right;\">\n",
              "      <th></th>\n",
              "      <th>ticker</th>\n",
              "      <th>date</th>\n",
              "      <th>time</th>\n",
              "      <th>title</th>\n",
              "    </tr>\n",
              "  </thead>\n",
              "  <tbody>\n",
              "    <tr>\n",
              "      <th>0</th>\n",
              "      <td>GME</td>\n",
              "      <td>Jul-29-21</td>\n",
              "      <td>01:04PM</td>\n",
              "      <td>Top Stocks for August 2021</td>\n",
              "    </tr>\n",
              "    <tr>\n",
              "      <th>1</th>\n",
              "      <td>GME</td>\n",
              "      <td>Jul-29-21</td>\n",
              "      <td>10:21AM</td>\n",
              "      <td>Retail investors replaced hedge funds as 'the ...</td>\n",
              "    </tr>\n",
              "    <tr>\n",
              "      <th>2</th>\n",
              "      <td>GME</td>\n",
              "      <td>Jul-28-21</td>\n",
              "      <td>01:11PM</td>\n",
              "      <td>Citadel would buy Robinhood if regulators crac...</td>\n",
              "    </tr>\n",
              "    <tr>\n",
              "      <th>3</th>\n",
              "      <td>GME</td>\n",
              "      <td>Jul-28-21</td>\n",
              "      <td>01:04PM</td>\n",
              "      <td>Why Shares of Lakeland Financial Are Trading H...</td>\n",
              "    </tr>\n",
              "    <tr>\n",
              "      <th>4</th>\n",
              "      <td>GME</td>\n",
              "      <td>Jul-28-21</td>\n",
              "      <td>01:00PM</td>\n",
              "      <td>GameStop Does Some Rebranding, Gains Twitter Nod</td>\n",
              "    </tr>\n",
              "  </tbody>\n",
              "</table>\n",
              "</div>"
            ],
            "text/plain": [
              "  ticker  ...                                              title\n",
              "0    GME  ...                         Top Stocks for August 2021\n",
              "1    GME  ...  Retail investors replaced hedge funds as 'the ...\n",
              "2    GME  ...  Citadel would buy Robinhood if regulators crac...\n",
              "3    GME  ...  Why Shares of Lakeland Financial Are Trading H...\n",
              "4    GME  ...   GameStop Does Some Rebranding, Gains Twitter Nod\n",
              "\n",
              "[5 rows x 4 columns]"
            ]
          },
          "metadata": {
            "tags": []
          },
          "execution_count": 6
        }
      ]
    },
    {
      "cell_type": "code",
      "metadata": {
        "id": "WS0Mox5H1jMN"
      },
      "source": [
        "mean_text = text.groupby(['date'])"
      ],
      "execution_count": 7,
      "outputs": []
    },
    {
      "cell_type": "code",
      "metadata": {
        "id": "SOHa_Ogt1ls1",
        "colab": {
          "base_uri": "https://localhost:8080/",
          "height": 423
        },
        "outputId": "0153c0cc-aec8-44f4-baad-1b4d569acc25"
      },
      "source": [
        "mean_text.head()"
      ],
      "execution_count": 8,
      "outputs": [
        {
          "output_type": "execute_result",
          "data": {
            "text/html": [
              "<div>\n",
              "<style scoped>\n",
              "    .dataframe tbody tr th:only-of-type {\n",
              "        vertical-align: middle;\n",
              "    }\n",
              "\n",
              "    .dataframe tbody tr th {\n",
              "        vertical-align: top;\n",
              "    }\n",
              "\n",
              "    .dataframe thead th {\n",
              "        text-align: right;\n",
              "    }\n",
              "</style>\n",
              "<table border=\"1\" class=\"dataframe\">\n",
              "  <thead>\n",
              "    <tr style=\"text-align: right;\">\n",
              "      <th></th>\n",
              "      <th>ticker</th>\n",
              "      <th>date</th>\n",
              "      <th>time</th>\n",
              "      <th>title</th>\n",
              "    </tr>\n",
              "  </thead>\n",
              "  <tbody>\n",
              "    <tr>\n",
              "      <th>0</th>\n",
              "      <td>GME</td>\n",
              "      <td>Jul-29-21</td>\n",
              "      <td>01:04PM</td>\n",
              "      <td>Top Stocks for August 2021</td>\n",
              "    </tr>\n",
              "    <tr>\n",
              "      <th>1</th>\n",
              "      <td>GME</td>\n",
              "      <td>Jul-29-21</td>\n",
              "      <td>10:21AM</td>\n",
              "      <td>Retail investors replaced hedge funds as 'the ...</td>\n",
              "    </tr>\n",
              "    <tr>\n",
              "      <th>2</th>\n",
              "      <td>GME</td>\n",
              "      <td>Jul-28-21</td>\n",
              "      <td>01:11PM</td>\n",
              "      <td>Citadel would buy Robinhood if regulators crac...</td>\n",
              "    </tr>\n",
              "    <tr>\n",
              "      <th>3</th>\n",
              "      <td>GME</td>\n",
              "      <td>Jul-28-21</td>\n",
              "      <td>01:04PM</td>\n",
              "      <td>Why Shares of Lakeland Financial Are Trading H...</td>\n",
              "    </tr>\n",
              "    <tr>\n",
              "      <th>4</th>\n",
              "      <td>GME</td>\n",
              "      <td>Jul-28-21</td>\n",
              "      <td>01:00PM</td>\n",
              "      <td>GameStop Does Some Rebranding, Gains Twitter Nod</td>\n",
              "    </tr>\n",
              "    <tr>\n",
              "      <th>...</th>\n",
              "      <td>...</td>\n",
              "      <td>...</td>\n",
              "      <td>...</td>\n",
              "      <td>...</td>\n",
              "    </tr>\n",
              "    <tr>\n",
              "      <th>137</th>\n",
              "      <td>AMC</td>\n",
              "      <td>Jul-21-21</td>\n",
              "      <td>12:33PM</td>\n",
              "      <td>Why AMC and Other Meme Stocks Moved Today</td>\n",
              "    </tr>\n",
              "    <tr>\n",
              "      <th>160</th>\n",
              "      <td>AMC</td>\n",
              "      <td>Jul-17-21</td>\n",
              "      <td>10:22AM</td>\n",
              "      <td>Beyond GameStop: Reddits WallStreetBets is Now...</td>\n",
              "    </tr>\n",
              "    <tr>\n",
              "      <th>161</th>\n",
              "      <td>AMC</td>\n",
              "      <td>Jul-17-21</td>\n",
              "      <td>08:35AM</td>\n",
              "      <td>Is There Any Hope Left for AMC Entertainment S...</td>\n",
              "    </tr>\n",
              "    <tr>\n",
              "      <th>198</th>\n",
              "      <td>AMC</td>\n",
              "      <td>Jul-13-21</td>\n",
              "      <td>03:19PM</td>\n",
              "      <td>Dow Jones Dips As Fed Official Makes This Clai...</td>\n",
              "    </tr>\n",
              "    <tr>\n",
              "      <th>199</th>\n",
              "      <td>AMC</td>\n",
              "      <td>Jul-13-21</td>\n",
              "      <td>02:23PM</td>\n",
              "      <td>Sam Raimi's Horror Classic 'THE EVIL DEAD' Ret...</td>\n",
              "    </tr>\n",
              "  </tbody>\n",
              "</table>\n",
              "<p>76 rows × 4 columns</p>\n",
              "</div>"
            ],
            "text/plain": [
              "    ticker  ...                                              title\n",
              "0      GME  ...                         Top Stocks for August 2021\n",
              "1      GME  ...  Retail investors replaced hedge funds as 'the ...\n",
              "2      GME  ...  Citadel would buy Robinhood if regulators crac...\n",
              "3      GME  ...  Why Shares of Lakeland Financial Are Trading H...\n",
              "4      GME  ...   GameStop Does Some Rebranding, Gains Twitter Nod\n",
              "..     ...  ...                                                ...\n",
              "137    AMC  ...          Why AMC and Other Meme Stocks Moved Today\n",
              "160    AMC  ...  Beyond GameStop: Reddits WallStreetBets is Now...\n",
              "161    AMC  ...  Is There Any Hope Left for AMC Entertainment S...\n",
              "198    AMC  ...  Dow Jones Dips As Fed Official Makes This Clai...\n",
              "199    AMC  ...  Sam Raimi's Horror Classic 'THE EVIL DEAD' Ret...\n",
              "\n",
              "[76 rows x 4 columns]"
            ]
          },
          "metadata": {
            "tags": []
          },
          "execution_count": 8
        }
      ]
    },
    {
      "cell_type": "code",
      "metadata": {
        "id": "SwanLpihFHux"
      },
      "source": [
        "test = text.groupby(['date','ticker'])['title'].apply(' '.join).reset_index()"
      ],
      "execution_count": 9,
      "outputs": []
    },
    {
      "cell_type": "code",
      "metadata": {
        "colab": {
          "base_uri": "https://localhost:8080/",
          "height": 676
        },
        "id": "A3fFPWZDLXdU",
        "outputId": "91f64107-ca0f-4c0e-fb98-53eaf7fc8336"
      },
      "source": [
        "test.head(20)"
      ],
      "execution_count": 10,
      "outputs": [
        {
          "output_type": "execute_result",
          "data": {
            "text/html": [
              "<div>\n",
              "<style scoped>\n",
              "    .dataframe tbody tr th:only-of-type {\n",
              "        vertical-align: middle;\n",
              "    }\n",
              "\n",
              "    .dataframe tbody tr th {\n",
              "        vertical-align: top;\n",
              "    }\n",
              "\n",
              "    .dataframe thead th {\n",
              "        text-align: right;\n",
              "    }\n",
              "</style>\n",
              "<table border=\"1\" class=\"dataframe\">\n",
              "  <thead>\n",
              "    <tr style=\"text-align: right;\">\n",
              "      <th></th>\n",
              "      <th>date</th>\n",
              "      <th>ticker</th>\n",
              "      <th>title</th>\n",
              "    </tr>\n",
              "  </thead>\n",
              "  <tbody>\n",
              "    <tr>\n",
              "      <th>0</th>\n",
              "      <td>Jul-12-21</td>\n",
              "      <td>GME</td>\n",
              "      <td>10 Reddits WallStreetBets Meme Stocks Hedge Fu...</td>\n",
              "    </tr>\n",
              "    <tr>\n",
              "      <th>1</th>\n",
              "      <td>Jul-13-21</td>\n",
              "      <td>AMC</td>\n",
              "      <td>Dow Jones Dips As Fed Official Makes This Clai...</td>\n",
              "    </tr>\n",
              "    <tr>\n",
              "      <th>2</th>\n",
              "      <td>Jul-13-21</td>\n",
              "      <td>GME</td>\n",
              "      <td>How Much $10,000 Invested This Year In AMC Sto...</td>\n",
              "    </tr>\n",
              "    <tr>\n",
              "      <th>3</th>\n",
              "      <td>Jul-14-21</td>\n",
              "      <td>AMC</td>\n",
              "      <td>These meme stocks are, 'generating some bad ha...</td>\n",
              "    </tr>\n",
              "    <tr>\n",
              "      <th>4</th>\n",
              "      <td>Jul-14-21</td>\n",
              "      <td>GME</td>\n",
              "      <td>Meet the teen investors of the future These me...</td>\n",
              "    </tr>\n",
              "    <tr>\n",
              "      <th>5</th>\n",
              "      <td>Jul-15-21</td>\n",
              "      <td>AMC</td>\n",
              "      <td>AMC, GameStop Swing as Meme Stocks Run Out of ...</td>\n",
              "    </tr>\n",
              "    <tr>\n",
              "      <th>6</th>\n",
              "      <td>Jul-15-21</td>\n",
              "      <td>GME</td>\n",
              "      <td>GameStop (GME) Dips More Than Broader Markets:...</td>\n",
              "    </tr>\n",
              "    <tr>\n",
              "      <th>7</th>\n",
              "      <td>Jul-16-21</td>\n",
              "      <td>AMC</td>\n",
              "      <td>Why AMC, GameStop, and Newegg Were All Over th...</td>\n",
              "    </tr>\n",
              "    <tr>\n",
              "      <th>8</th>\n",
              "      <td>Jul-16-21</td>\n",
              "      <td>GME</td>\n",
              "      <td>Why AMC, GameStop, and Newegg Were All Over th...</td>\n",
              "    </tr>\n",
              "    <tr>\n",
              "      <th>9</th>\n",
              "      <td>Jul-17-21</td>\n",
              "      <td>AMC</td>\n",
              "      <td>Beyond GameStop: Reddits WallStreetBets is Now...</td>\n",
              "    </tr>\n",
              "    <tr>\n",
              "      <th>10</th>\n",
              "      <td>Jul-17-21</td>\n",
              "      <td>GME</td>\n",
              "      <td>Beyond GameStop: Reddits WallStreetBets is Now...</td>\n",
              "    </tr>\n",
              "    <tr>\n",
              "      <th>11</th>\n",
              "      <td>Jul-18-21</td>\n",
              "      <td>GME</td>\n",
              "      <td>How Much More Does GameStop Have to Fall Befor...</td>\n",
              "    </tr>\n",
              "    <tr>\n",
              "      <th>12</th>\n",
              "      <td>Jul-19-21</td>\n",
              "      <td>AMC</td>\n",
              "      <td>Rosen Law Announces Updated Lead Plaintiff Dea...</td>\n",
              "    </tr>\n",
              "    <tr>\n",
              "      <th>13</th>\n",
              "      <td>Jul-19-21</td>\n",
              "      <td>GME</td>\n",
              "      <td>Rosen Law Announces Updated Lead Plaintiff Dea...</td>\n",
              "    </tr>\n",
              "    <tr>\n",
              "      <th>14</th>\n",
              "      <td>Jul-20-21</td>\n",
              "      <td>AMC</td>\n",
              "      <td>Here is What Hedge Funds Think About AMC Enter...</td>\n",
              "    </tr>\n",
              "    <tr>\n",
              "      <th>15</th>\n",
              "      <td>Jul-20-21</td>\n",
              "      <td>GME</td>\n",
              "      <td>Meme Stocks GameStop and AMC Bounce Back. Shor...</td>\n",
              "    </tr>\n",
              "    <tr>\n",
              "      <th>16</th>\n",
              "      <td>Jul-21-21</td>\n",
              "      <td>AMC</td>\n",
              "      <td>Cramer's Mad Money Recap: Netflix, AMC, Amazon...</td>\n",
              "    </tr>\n",
              "    <tr>\n",
              "      <th>17</th>\n",
              "      <td>Jul-21-21</td>\n",
              "      <td>GME</td>\n",
              "      <td>Why AMC and Other Meme Stocks Moved Today Cras...</td>\n",
              "    </tr>\n",
              "    <tr>\n",
              "      <th>18</th>\n",
              "      <td>Jul-22-21</td>\n",
              "      <td>AMC</td>\n",
              "      <td>FT stockpicking contest: winners and losers at...</td>\n",
              "    </tr>\n",
              "    <tr>\n",
              "      <th>19</th>\n",
              "      <td>Jul-22-21</td>\n",
              "      <td>GME</td>\n",
              "      <td>FT stockpicking contest: winners and losers at...</td>\n",
              "    </tr>\n",
              "  </tbody>\n",
              "</table>\n",
              "</div>"
            ],
            "text/plain": [
              "         date ticker                                              title\n",
              "0   Jul-12-21    GME  10 Reddits WallStreetBets Meme Stocks Hedge Fu...\n",
              "1   Jul-13-21    AMC  Dow Jones Dips As Fed Official Makes This Clai...\n",
              "2   Jul-13-21    GME  How Much $10,000 Invested This Year In AMC Sto...\n",
              "3   Jul-14-21    AMC  These meme stocks are, 'generating some bad ha...\n",
              "4   Jul-14-21    GME  Meet the teen investors of the future These me...\n",
              "5   Jul-15-21    AMC  AMC, GameStop Swing as Meme Stocks Run Out of ...\n",
              "6   Jul-15-21    GME  GameStop (GME) Dips More Than Broader Markets:...\n",
              "7   Jul-16-21    AMC  Why AMC, GameStop, and Newegg Were All Over th...\n",
              "8   Jul-16-21    GME  Why AMC, GameStop, and Newegg Were All Over th...\n",
              "9   Jul-17-21    AMC  Beyond GameStop: Reddits WallStreetBets is Now...\n",
              "10  Jul-17-21    GME  Beyond GameStop: Reddits WallStreetBets is Now...\n",
              "11  Jul-18-21    GME  How Much More Does GameStop Have to Fall Befor...\n",
              "12  Jul-19-21    AMC  Rosen Law Announces Updated Lead Plaintiff Dea...\n",
              "13  Jul-19-21    GME  Rosen Law Announces Updated Lead Plaintiff Dea...\n",
              "14  Jul-20-21    AMC  Here is What Hedge Funds Think About AMC Enter...\n",
              "15  Jul-20-21    GME  Meme Stocks GameStop and AMC Bounce Back. Shor...\n",
              "16  Jul-21-21    AMC  Cramer's Mad Money Recap: Netflix, AMC, Amazon...\n",
              "17  Jul-21-21    GME  Why AMC and Other Meme Stocks Moved Today Cras...\n",
              "18  Jul-22-21    AMC  FT stockpicking contest: winners and losers at...\n",
              "19  Jul-22-21    GME  FT stockpicking contest: winners and losers at..."
            ]
          },
          "metadata": {
            "tags": []
          },
          "execution_count": 10
        }
      ]
    },
    {
      "cell_type": "code",
      "metadata": {
        "colab": {
          "base_uri": "https://localhost:8080/",
          "height": 35
        },
        "id": "TzvsSY41M35s",
        "outputId": "36836102-566f-46d3-8d65-bd7068f5c12c"
      },
      "source": [
        "test.iloc[0,2]"
      ],
      "execution_count": 11,
      "outputs": [
        {
          "output_type": "execute_result",
          "data": {
            "application/vnd.google.colaboratory.intrinsic+json": {
              "type": "string"
            },
            "text/plain": [
              "'10 Reddits WallStreetBets Meme Stocks Hedge Funds are Piling Into GameStop Stuck at Current Level as Investors Hunt Bottom'"
            ]
          },
          "metadata": {
            "tags": []
          },
          "execution_count": 11
        }
      ]
    },
    {
      "cell_type": "code",
      "metadata": {
        "id": "R7yAB85xN7jm"
      },
      "source": [
        "test['date'] = pd.to_datetime(test.date).dt.date"
      ],
      "execution_count": 12,
      "outputs": []
    },
    {
      "cell_type": "code",
      "metadata": {
        "id": "THR2JqfFN-Y0",
        "colab": {
          "base_uri": "https://localhost:8080/"
        },
        "outputId": "ccb041f1-b2ff-470c-8e86-7e0197f74d39"
      },
      "source": [
        "print(test)"
      ],
      "execution_count": 13,
      "outputs": [
        {
          "output_type": "stream",
          "text": [
            "          date ticker                                              title\n",
            "0   2021-07-12    GME  10 Reddits WallStreetBets Meme Stocks Hedge Fu...\n",
            "1   2021-07-13    AMC  Dow Jones Dips As Fed Official Makes This Clai...\n",
            "2   2021-07-13    GME  How Much $10,000 Invested This Year In AMC Sto...\n",
            "3   2021-07-14    AMC  These meme stocks are, 'generating some bad ha...\n",
            "4   2021-07-14    GME  Meet the teen investors of the future These me...\n",
            "5   2021-07-15    AMC  AMC, GameStop Swing as Meme Stocks Run Out of ...\n",
            "6   2021-07-15    GME  GameStop (GME) Dips More Than Broader Markets:...\n",
            "7   2021-07-16    AMC  Why AMC, GameStop, and Newegg Were All Over th...\n",
            "8   2021-07-16    GME  Why AMC, GameStop, and Newegg Were All Over th...\n",
            "9   2021-07-17    AMC  Beyond GameStop: Reddits WallStreetBets is Now...\n",
            "10  2021-07-17    GME  Beyond GameStop: Reddits WallStreetBets is Now...\n",
            "11  2021-07-18    GME  How Much More Does GameStop Have to Fall Befor...\n",
            "12  2021-07-19    AMC  Rosen Law Announces Updated Lead Plaintiff Dea...\n",
            "13  2021-07-19    GME  Rosen Law Announces Updated Lead Plaintiff Dea...\n",
            "14  2021-07-20    AMC  Here is What Hedge Funds Think About AMC Enter...\n",
            "15  2021-07-20    GME  Meme Stocks GameStop and AMC Bounce Back. Shor...\n",
            "16  2021-07-21    AMC  Cramer's Mad Money Recap: Netflix, AMC, Amazon...\n",
            "17  2021-07-21    GME  Why AMC and Other Meme Stocks Moved Today Cras...\n",
            "18  2021-07-22    AMC  FT stockpicking contest: winners and losers at...\n",
            "19  2021-07-22    GME  FT stockpicking contest: winners and losers at...\n",
            "20  2021-07-23    AMC  Dow Jones Surges As Snap Stock Passes Buy; Vir...\n",
            "21  2021-07-23    GME  GameStop (GME) Gains But Lags Market: What You...\n",
            "22  2021-07-24    GME   Why GameStop Beat the Market by 3-to-1 This Week\n",
            "23  2021-07-25    AMC  10 Most-Shorted Stocks Reddits WallStreetBets ...\n",
            "24  2021-07-25    GME  10 Most-Shorted Stocks Reddits WallStreetBets ...\n",
            "25  2021-07-26    AMC  Former NYSE trader on the rise of meme stocks ...\n",
            "26  2021-07-26    GME  GameStop (GME) Outpaces Stock Market Gains: Wh...\n",
            "27  2021-07-26   TSLA  Elon Musk says he is done with regular earning...\n",
            "28  2021-07-27    AMC  Why AMC Entertainment Is Falling Today INVESTO...\n",
            "29  2021-07-27    GME  GXO Logistics, Victoria's Secret & GameStop Se...\n",
            "30  2021-07-27   TSLA  US STOCKS-Wall St snaps five-day up streak as ...\n",
            "31  2021-07-28    AMC  Citadel would buy Robinhood if regulators crac...\n",
            "32  2021-07-28    GME  Citadel would buy Robinhood if regulators crac...\n",
            "33  2021-07-28   TSLA  Join Spire Global CEO in Fireside Chat at 1pm ...\n",
            "34  2021-07-29    AMC  Retail investors replaced hedge funds as 'the ...\n",
            "35  2021-07-29    GME  Top Stocks for August 2021 Retail investors re...\n",
            "36  2021-07-29   TSLA  The Chip-Crunch Recovery Will Be Rocky, as App...\n"
          ],
          "name": "stdout"
        }
      ]
    },
    {
      "cell_type": "code",
      "metadata": {
        "id": "CL--3fRu3QoC",
        "colab": {
          "base_uri": "https://localhost:8080/"
        },
        "outputId": "9961bc47-cb9e-49a9-a9d8-163bf7f7f059"
      },
      "source": [
        "mean_text['date'].unique()"
      ],
      "execution_count": 14,
      "outputs": [
        {
          "output_type": "execute_result",
          "data": {
            "text/plain": [
              "date\n",
              "Jul-12-21    [Jul-12-21]\n",
              "Jul-13-21    [Jul-13-21]\n",
              "Jul-14-21    [Jul-14-21]\n",
              "Jul-15-21    [Jul-15-21]\n",
              "Jul-16-21    [Jul-16-21]\n",
              "Jul-17-21    [Jul-17-21]\n",
              "Jul-18-21    [Jul-18-21]\n",
              "Jul-19-21    [Jul-19-21]\n",
              "Jul-20-21    [Jul-20-21]\n",
              "Jul-21-21    [Jul-21-21]\n",
              "Jul-22-21    [Jul-22-21]\n",
              "Jul-23-21    [Jul-23-21]\n",
              "Jul-24-21    [Jul-24-21]\n",
              "Jul-25-21    [Jul-25-21]\n",
              "Jul-26-21    [Jul-26-21]\n",
              "Jul-27-21    [Jul-27-21]\n",
              "Jul-28-21    [Jul-28-21]\n",
              "Jul-29-21    [Jul-29-21]\n",
              "Name: date, dtype: object"
            ]
          },
          "metadata": {
            "tags": []
          },
          "execution_count": 14
        }
      ]
    },
    {
      "cell_type": "code",
      "metadata": {
        "colab": {
          "base_uri": "https://localhost:8080/",
          "height": 206
        },
        "id": "IrMuKUPD16zf",
        "outputId": "de8ada91-484c-49d2-fbf8-3c76b65d9761"
      },
      "source": [
        "test.head()"
      ],
      "execution_count": 15,
      "outputs": [
        {
          "output_type": "execute_result",
          "data": {
            "text/html": [
              "<div>\n",
              "<style scoped>\n",
              "    .dataframe tbody tr th:only-of-type {\n",
              "        vertical-align: middle;\n",
              "    }\n",
              "\n",
              "    .dataframe tbody tr th {\n",
              "        vertical-align: top;\n",
              "    }\n",
              "\n",
              "    .dataframe thead th {\n",
              "        text-align: right;\n",
              "    }\n",
              "</style>\n",
              "<table border=\"1\" class=\"dataframe\">\n",
              "  <thead>\n",
              "    <tr style=\"text-align: right;\">\n",
              "      <th></th>\n",
              "      <th>date</th>\n",
              "      <th>ticker</th>\n",
              "      <th>title</th>\n",
              "    </tr>\n",
              "  </thead>\n",
              "  <tbody>\n",
              "    <tr>\n",
              "      <th>0</th>\n",
              "      <td>2021-07-12</td>\n",
              "      <td>GME</td>\n",
              "      <td>10 Reddits WallStreetBets Meme Stocks Hedge Fu...</td>\n",
              "    </tr>\n",
              "    <tr>\n",
              "      <th>1</th>\n",
              "      <td>2021-07-13</td>\n",
              "      <td>AMC</td>\n",
              "      <td>Dow Jones Dips As Fed Official Makes This Clai...</td>\n",
              "    </tr>\n",
              "    <tr>\n",
              "      <th>2</th>\n",
              "      <td>2021-07-13</td>\n",
              "      <td>GME</td>\n",
              "      <td>How Much $10,000 Invested This Year In AMC Sto...</td>\n",
              "    </tr>\n",
              "    <tr>\n",
              "      <th>3</th>\n",
              "      <td>2021-07-14</td>\n",
              "      <td>AMC</td>\n",
              "      <td>These meme stocks are, 'generating some bad ha...</td>\n",
              "    </tr>\n",
              "    <tr>\n",
              "      <th>4</th>\n",
              "      <td>2021-07-14</td>\n",
              "      <td>GME</td>\n",
              "      <td>Meet the teen investors of the future These me...</td>\n",
              "    </tr>\n",
              "  </tbody>\n",
              "</table>\n",
              "</div>"
            ],
            "text/plain": [
              "         date ticker                                              title\n",
              "0  2021-07-12    GME  10 Reddits WallStreetBets Meme Stocks Hedge Fu...\n",
              "1  2021-07-13    AMC  Dow Jones Dips As Fed Official Makes This Clai...\n",
              "2  2021-07-13    GME  How Much $10,000 Invested This Year In AMC Sto...\n",
              "3  2021-07-14    AMC  These meme stocks are, 'generating some bad ha...\n",
              "4  2021-07-14    GME  Meet the teen investors of the future These me..."
            ]
          },
          "metadata": {
            "tags": []
          },
          "execution_count": 15
        }
      ]
    },
    {
      "cell_type": "code",
      "metadata": {
        "id": "owd4fquSB_Zs"
      },
      "source": [
        "vader = SentimentIntensityAnalyzer()"
      ],
      "execution_count": 16,
      "outputs": []
    },
    {
      "cell_type": "code",
      "metadata": {
        "colab": {
          "base_uri": "https://localhost:8080/",
          "height": 707
        },
        "id": "q2hEjeGHCFAg",
        "outputId": "2f23eccd-db5b-46c1-d614-3a9243c5e97f"
      },
      "source": [
        "func = lambda title: vader.polarity_scores(title)['compound']\n",
        "test['compound'] = test['title'].apply(func)\n",
        "#test['date'] = pd.to_datetime(text.date).dt.date\n",
        "\n",
        "test.head(21)"
      ],
      "execution_count": 21,
      "outputs": [
        {
          "output_type": "execute_result",
          "data": {
            "text/html": [
              "<div>\n",
              "<style scoped>\n",
              "    .dataframe tbody tr th:only-of-type {\n",
              "        vertical-align: middle;\n",
              "    }\n",
              "\n",
              "    .dataframe tbody tr th {\n",
              "        vertical-align: top;\n",
              "    }\n",
              "\n",
              "    .dataframe thead th {\n",
              "        text-align: right;\n",
              "    }\n",
              "</style>\n",
              "<table border=\"1\" class=\"dataframe\">\n",
              "  <thead>\n",
              "    <tr style=\"text-align: right;\">\n",
              "      <th></th>\n",
              "      <th>date</th>\n",
              "      <th>ticker</th>\n",
              "      <th>title</th>\n",
              "      <th>compound</th>\n",
              "    </tr>\n",
              "  </thead>\n",
              "  <tbody>\n",
              "    <tr>\n",
              "      <th>0</th>\n",
              "      <td>2021-07-12</td>\n",
              "      <td>GME</td>\n",
              "      <td>10 Reddits WallStreetBets Meme Stocks Hedge Fu...</td>\n",
              "      <td>-0.2500</td>\n",
              "    </tr>\n",
              "    <tr>\n",
              "      <th>1</th>\n",
              "      <td>2021-07-13</td>\n",
              "      <td>AMC</td>\n",
              "      <td>Dow Jones Dips As Fed Official Makes This Clai...</td>\n",
              "      <td>-0.9420</td>\n",
              "    </tr>\n",
              "    <tr>\n",
              "      <th>2</th>\n",
              "      <td>2021-07-13</td>\n",
              "      <td>GME</td>\n",
              "      <td>How Much $10,000 Invested This Year In AMC Sto...</td>\n",
              "      <td>0.7034</td>\n",
              "    </tr>\n",
              "    <tr>\n",
              "      <th>3</th>\n",
              "      <td>2021-07-14</td>\n",
              "      <td>AMC</td>\n",
              "      <td>These meme stocks are, 'generating some bad ha...</td>\n",
              "      <td>0.6800</td>\n",
              "    </tr>\n",
              "    <tr>\n",
              "      <th>4</th>\n",
              "      <td>2021-07-14</td>\n",
              "      <td>GME</td>\n",
              "      <td>Meet the teen investors of the future These me...</td>\n",
              "      <td>-0.1280</td>\n",
              "    </tr>\n",
              "    <tr>\n",
              "      <th>5</th>\n",
              "      <td>2021-07-15</td>\n",
              "      <td>AMC</td>\n",
              "      <td>AMC, GameStop Swing as Meme Stocks Run Out of ...</td>\n",
              "      <td>0.8875</td>\n",
              "    </tr>\n",
              "    <tr>\n",
              "      <th>6</th>\n",
              "      <td>2021-07-15</td>\n",
              "      <td>GME</td>\n",
              "      <td>GameStop (GME) Dips More Than Broader Markets:...</td>\n",
              "      <td>0.5873</td>\n",
              "    </tr>\n",
              "    <tr>\n",
              "      <th>7</th>\n",
              "      <td>2021-07-16</td>\n",
              "      <td>AMC</td>\n",
              "      <td>Why AMC, GameStop, and Newegg Were All Over th...</td>\n",
              "      <td>0.3293</td>\n",
              "    </tr>\n",
              "    <tr>\n",
              "      <th>8</th>\n",
              "      <td>2021-07-16</td>\n",
              "      <td>GME</td>\n",
              "      <td>Why AMC, GameStop, and Newegg Were All Over th...</td>\n",
              "      <td>0.6145</td>\n",
              "    </tr>\n",
              "    <tr>\n",
              "      <th>9</th>\n",
              "      <td>2021-07-17</td>\n",
              "      <td>AMC</td>\n",
              "      <td>Beyond GameStop: Reddits WallStreetBets is Now...</td>\n",
              "      <td>0.6908</td>\n",
              "    </tr>\n",
              "    <tr>\n",
              "      <th>10</th>\n",
              "      <td>2021-07-17</td>\n",
              "      <td>GME</td>\n",
              "      <td>Beyond GameStop: Reddits WallStreetBets is Now...</td>\n",
              "      <td>0.0000</td>\n",
              "    </tr>\n",
              "    <tr>\n",
              "      <th>11</th>\n",
              "      <td>2021-07-18</td>\n",
              "      <td>GME</td>\n",
              "      <td>How Much More Does GameStop Have to Fall Befor...</td>\n",
              "      <td>0.0000</td>\n",
              "    </tr>\n",
              "    <tr>\n",
              "      <th>12</th>\n",
              "      <td>2021-07-19</td>\n",
              "      <td>AMC</td>\n",
              "      <td>Rosen Law Announces Updated Lead Plaintiff Dea...</td>\n",
              "      <td>0.6908</td>\n",
              "    </tr>\n",
              "    <tr>\n",
              "      <th>13</th>\n",
              "      <td>2021-07-19</td>\n",
              "      <td>GME</td>\n",
              "      <td>Rosen Law Announces Updated Lead Plaintiff Dea...</td>\n",
              "      <td>-0.4019</td>\n",
              "    </tr>\n",
              "    <tr>\n",
              "      <th>14</th>\n",
              "      <td>2021-07-20</td>\n",
              "      <td>AMC</td>\n",
              "      <td>Here is What Hedge Funds Think About AMC Enter...</td>\n",
              "      <td>0.9534</td>\n",
              "    </tr>\n",
              "    <tr>\n",
              "      <th>15</th>\n",
              "      <td>2021-07-20</td>\n",
              "      <td>GME</td>\n",
              "      <td>Meme Stocks GameStop and AMC Bounce Back. Shor...</td>\n",
              "      <td>0.8458</td>\n",
              "    </tr>\n",
              "    <tr>\n",
              "      <th>16</th>\n",
              "      <td>2021-07-21</td>\n",
              "      <td>AMC</td>\n",
              "      <td>Cramer's Mad Money Recap: Netflix, AMC, Amazon...</td>\n",
              "      <td>0.7783</td>\n",
              "    </tr>\n",
              "    <tr>\n",
              "      <th>17</th>\n",
              "      <td>2021-07-21</td>\n",
              "      <td>GME</td>\n",
              "      <td>Why AMC and Other Meme Stocks Moved Today Cras...</td>\n",
              "      <td>-0.0772</td>\n",
              "    </tr>\n",
              "    <tr>\n",
              "      <th>18</th>\n",
              "      <td>2021-07-22</td>\n",
              "      <td>AMC</td>\n",
              "      <td>FT stockpicking contest: winners and losers at...</td>\n",
              "      <td>-0.5994</td>\n",
              "    </tr>\n",
              "    <tr>\n",
              "      <th>19</th>\n",
              "      <td>2021-07-22</td>\n",
              "      <td>GME</td>\n",
              "      <td>FT stockpicking contest: winners and losers at...</td>\n",
              "      <td>0.2732</td>\n",
              "    </tr>\n",
              "    <tr>\n",
              "      <th>20</th>\n",
              "      <td>2021-07-23</td>\n",
              "      <td>AMC</td>\n",
              "      <td>Dow Jones Surges As Snap Stock Passes Buy; Vir...</td>\n",
              "      <td>0.0085</td>\n",
              "    </tr>\n",
              "  </tbody>\n",
              "</table>\n",
              "</div>"
            ],
            "text/plain": [
              "          date  ... compound\n",
              "0   2021-07-12  ...  -0.2500\n",
              "1   2021-07-13  ...  -0.9420\n",
              "2   2021-07-13  ...   0.7034\n",
              "3   2021-07-14  ...   0.6800\n",
              "4   2021-07-14  ...  -0.1280\n",
              "5   2021-07-15  ...   0.8875\n",
              "6   2021-07-15  ...   0.5873\n",
              "7   2021-07-16  ...   0.3293\n",
              "8   2021-07-16  ...   0.6145\n",
              "9   2021-07-17  ...   0.6908\n",
              "10  2021-07-17  ...   0.0000\n",
              "11  2021-07-18  ...   0.0000\n",
              "12  2021-07-19  ...   0.6908\n",
              "13  2021-07-19  ...  -0.4019\n",
              "14  2021-07-20  ...   0.9534\n",
              "15  2021-07-20  ...   0.8458\n",
              "16  2021-07-21  ...   0.7783\n",
              "17  2021-07-21  ...  -0.0772\n",
              "18  2021-07-22  ...  -0.5994\n",
              "19  2021-07-22  ...   0.2732\n",
              "20  2021-07-23  ...   0.0085\n",
              "\n",
              "[21 rows x 4 columns]"
            ]
          },
          "metadata": {
            "tags": []
          },
          "execution_count": 21
        }
      ]
    },
    {
      "cell_type": "code",
      "metadata": {
        "colab": {
          "base_uri": "https://localhost:8080/"
        },
        "id": "q2Lw_SmbjhFP",
        "outputId": "50cba918-be3f-4258-9c55-93aee64bbde9"
      },
      "source": [
        "test['date'].unique"
      ],
      "execution_count": 19,
      "outputs": [
        {
          "output_type": "execute_result",
          "data": {
            "text/plain": [
              "<bound method Series.unique of 0     2021-07-12\n",
              "1     2021-07-13\n",
              "2     2021-07-13\n",
              "3     2021-07-14\n",
              "4     2021-07-14\n",
              "5     2021-07-15\n",
              "6     2021-07-15\n",
              "7     2021-07-16\n",
              "8     2021-07-16\n",
              "9     2021-07-17\n",
              "10    2021-07-17\n",
              "11    2021-07-18\n",
              "12    2021-07-19\n",
              "13    2021-07-19\n",
              "14    2021-07-20\n",
              "15    2021-07-20\n",
              "16    2021-07-21\n",
              "17    2021-07-21\n",
              "18    2021-07-22\n",
              "19    2021-07-22\n",
              "20    2021-07-23\n",
              "21    2021-07-23\n",
              "22    2021-07-24\n",
              "23    2021-07-25\n",
              "24    2021-07-25\n",
              "25    2021-07-26\n",
              "26    2021-07-26\n",
              "27    2021-07-26\n",
              "28    2021-07-27\n",
              "29    2021-07-27\n",
              "30    2021-07-27\n",
              "31    2021-07-28\n",
              "32    2021-07-28\n",
              "33    2021-07-28\n",
              "34    2021-07-29\n",
              "35    2021-07-29\n",
              "36    2021-07-29\n",
              "Name: date, dtype: object>"
            ]
          },
          "metadata": {
            "tags": []
          },
          "execution_count": 19
        }
      ]
    },
    {
      "cell_type": "code",
      "metadata": {
        "colab": {
          "base_uri": "https://localhost:8080/"
        },
        "id": "sRjJm5Q5IcWn",
        "outputId": "258fd805-79d2-4c97-9176-21cac035b26c"
      },
      "source": [
        "vader.polarity_scores(test['title'].loc[0])"
      ],
      "execution_count": 20,
      "outputs": [
        {
          "output_type": "execute_result",
          "data": {
            "text/plain": [
              "{'compound': -0.25, 'neg': 0.1, 'neu': 0.9, 'pos': 0.0}"
            ]
          },
          "metadata": {
            "tags": []
          },
          "execution_count": 20
        }
      ]
    },
    {
      "cell_type": "code",
      "metadata": {
        "id": "0jO382l0W9aP"
      },
      "source": [
        "test2 = test"
      ],
      "execution_count": 22,
      "outputs": []
    },
    {
      "cell_type": "code",
      "metadata": {
        "colab": {
          "base_uri": "https://localhost:8080/",
          "height": 206
        },
        "id": "aTiE7TwlW_h0",
        "outputId": "9585f7ab-d0b2-4ab3-fdfc-60807a43a238"
      },
      "source": [
        "test2.head()"
      ],
      "execution_count": 23,
      "outputs": [
        {
          "output_type": "execute_result",
          "data": {
            "text/html": [
              "<div>\n",
              "<style scoped>\n",
              "    .dataframe tbody tr th:only-of-type {\n",
              "        vertical-align: middle;\n",
              "    }\n",
              "\n",
              "    .dataframe tbody tr th {\n",
              "        vertical-align: top;\n",
              "    }\n",
              "\n",
              "    .dataframe thead th {\n",
              "        text-align: right;\n",
              "    }\n",
              "</style>\n",
              "<table border=\"1\" class=\"dataframe\">\n",
              "  <thead>\n",
              "    <tr style=\"text-align: right;\">\n",
              "      <th></th>\n",
              "      <th>date</th>\n",
              "      <th>ticker</th>\n",
              "      <th>title</th>\n",
              "      <th>compound</th>\n",
              "    </tr>\n",
              "  </thead>\n",
              "  <tbody>\n",
              "    <tr>\n",
              "      <th>0</th>\n",
              "      <td>2021-07-12</td>\n",
              "      <td>GME</td>\n",
              "      <td>10 Reddits WallStreetBets Meme Stocks Hedge Fu...</td>\n",
              "      <td>-0.2500</td>\n",
              "    </tr>\n",
              "    <tr>\n",
              "      <th>1</th>\n",
              "      <td>2021-07-13</td>\n",
              "      <td>AMC</td>\n",
              "      <td>Dow Jones Dips As Fed Official Makes This Clai...</td>\n",
              "      <td>-0.9420</td>\n",
              "    </tr>\n",
              "    <tr>\n",
              "      <th>2</th>\n",
              "      <td>2021-07-13</td>\n",
              "      <td>GME</td>\n",
              "      <td>How Much $10,000 Invested This Year In AMC Sto...</td>\n",
              "      <td>0.7034</td>\n",
              "    </tr>\n",
              "    <tr>\n",
              "      <th>3</th>\n",
              "      <td>2021-07-14</td>\n",
              "      <td>AMC</td>\n",
              "      <td>These meme stocks are, 'generating some bad ha...</td>\n",
              "      <td>0.6800</td>\n",
              "    </tr>\n",
              "    <tr>\n",
              "      <th>4</th>\n",
              "      <td>2021-07-14</td>\n",
              "      <td>GME</td>\n",
              "      <td>Meet the teen investors of the future These me...</td>\n",
              "      <td>-0.1280</td>\n",
              "    </tr>\n",
              "  </tbody>\n",
              "</table>\n",
              "</div>"
            ],
            "text/plain": [
              "         date  ... compound\n",
              "0  2021-07-12  ...  -0.2500\n",
              "1  2021-07-13  ...  -0.9420\n",
              "2  2021-07-13  ...   0.7034\n",
              "3  2021-07-14  ...   0.6800\n",
              "4  2021-07-14  ...  -0.1280\n",
              "\n",
              "[5 rows x 4 columns]"
            ]
          },
          "metadata": {
            "tags": []
          },
          "execution_count": 23
        }
      ]
    },
    {
      "cell_type": "code",
      "metadata": {
        "colab": {
          "base_uri": "https://localhost:8080/"
        },
        "id": "YHPUFygTW_e-",
        "outputId": "883b4758-f480-4ebc-fbd4-bd77d7572a6a"
      },
      "source": [
        "mean_text = test2.groupby(['ticker', 'date']).mean()\n",
        "print(mean_text)"
      ],
      "execution_count": 24,
      "outputs": [
        {
          "output_type": "stream",
          "text": [
            "                   compound\n",
            "ticker date                \n",
            "AMC    2021-07-13   -0.9420\n",
            "       2021-07-14    0.6800\n",
            "       2021-07-15    0.8875\n",
            "       2021-07-16    0.3293\n",
            "       2021-07-17    0.6908\n",
            "       2021-07-19    0.6908\n",
            "       2021-07-20    0.9534\n",
            "       2021-07-21    0.7783\n",
            "       2021-07-22   -0.5994\n",
            "       2021-07-23    0.0085\n",
            "       2021-07-25   -0.3818\n",
            "       2021-07-26    0.1531\n",
            "       2021-07-27    0.8374\n",
            "       2021-07-28    0.0000\n",
            "       2021-07-29    0.0000\n",
            "GME    2021-07-12   -0.2500\n",
            "       2021-07-13    0.7034\n",
            "       2021-07-14   -0.1280\n",
            "       2021-07-15    0.5873\n",
            "       2021-07-16    0.6145\n",
            "       2021-07-17    0.0000\n",
            "       2021-07-18    0.0000\n",
            "       2021-07-19   -0.4019\n",
            "       2021-07-20    0.8458\n",
            "       2021-07-21   -0.0772\n",
            "       2021-07-22    0.2732\n",
            "       2021-07-23    0.7125\n",
            "       2021-07-24    0.0000\n",
            "       2021-07-25   -0.3818\n",
            "       2021-07-26    0.2023\n",
            "       2021-07-27    0.8374\n",
            "       2021-07-28    0.2960\n",
            "       2021-07-29    0.2023\n",
            "TSLA   2021-07-26    0.9811\n",
            "       2021-07-27    0.9581\n",
            "       2021-07-28    0.9689\n",
            "       2021-07-29    0.8883\n"
          ],
          "name": "stdout"
        }
      ]
    },
    {
      "cell_type": "code",
      "metadata": {
        "id": "RTsCtwXgXLly"
      },
      "source": [
        "mean_text = mean_text.unstack()\n",
        "mean_text = mean_text.xs('compound', axis=\"columns\").transpose()"
      ],
      "execution_count": 25,
      "outputs": []
    },
    {
      "cell_type": "code",
      "metadata": {
        "colab": {
          "base_uri": "https://localhost:8080/",
          "height": 345
        },
        "id": "SkYOLT1fXQ6Q",
        "outputId": "a0ebb71b-6d74-408d-cc09-251ef24933bd"
      },
      "source": [
        "plt.figure(figsize=(10,8))\n",
        "mean_text.plot(kind='bar')\n",
        "plt.show()"
      ],
      "execution_count": 26,
      "outputs": [
        {
          "output_type": "display_data",
          "data": {
            "text/plain": [
              "<Figure size 720x576 with 0 Axes>"
            ]
          },
          "metadata": {
            "tags": []
          }
        },
        {
          "output_type": "display_data",
          "data": {
            "image/png": "[encoded data removed]",
            "text/plain": [
              "<Figure size 432x288 with 1 Axes>"
            ]
          },
          "metadata": {
            "tags": [],
            "needs_background": "light"
          }
        }
      ]
    },
    {
      "cell_type": "code",
      "metadata": {
        "colab": {
          "base_uri": "https://localhost:8080/",
          "height": 592
        },
        "id": "qhxqyuFRABsd",
        "outputId": "0790ff75-f917-4b65-f45e-a94824371d66"
      },
      "source": [
        "!pip install yfinance"
      ],
      "execution_count": 27,
      "outputs": [
        {
          "output_type": "stream",
          "text": [
            "Collecting yfinance\n",
            "  Downloading yfinance-0.1.63.tar.gz (26 kB)\n",
            "Requirement already satisfied: pandas>=0.24 in /usr/local/lib/python3.7/dist-packages (from yfinance) (1.1.5)\n",
            "Requirement already satisfied: numpy>=1.15 in /usr/local/lib/python3.7/dist-packages (from yfinance) (1.19.5)\n",
            "Requirement already satisfied: requests>=2.20 in /usr/local/lib/python3.7/dist-packages (from yfinance) (2.23.0)\n",
            "Requirement already satisfied: multitasking>=0.0.7 in /usr/local/lib/python3.7/dist-packages (from yfinance) (0.0.9)\n",
            "Collecting lxml>=4.5.1\n",
            "  Downloading lxml-4.6.3-cp37-cp37m-manylinux2014_x86_64.whl (6.3 MB)\n",
            "\u001b[K     |████████████████████████████████| 6.3 MB 6.9 MB/s \n",
            "\u001b[?25hRequirement already satisfied: pytz>=2017.2 in /usr/local/lib/python3.7/dist-packages (from pandas>=0.24->yfinance) (2018.9)\n",
            "Requirement already satisfied: python-dateutil>=2.7.3 in /usr/local/lib/python3.7/dist-packages (from pandas>=0.24->yfinance) (2.8.1)\n",
            "Requirement already satisfied: six>=1.5 in /usr/local/lib/python3.7/dist-packages (from python-dateutil>=2.7.3->pandas>=0.24->yfinance) (1.15.0)\n",
            "Requirement already satisfied: idna<3,>=2.5 in /usr/local/lib/python3.7/dist-packages (from requests>=2.20->yfinance) (2.10)\n",
            "Requirement already satisfied: urllib3!=1.25.0,!=1.25.1,<1.26,>=1.21.1 in /usr/local/lib/python3.7/dist-packages (from requests>=2.20->yfinance) (1.24.3)\n",
            "Requirement already satisfied: certifi>=2017.4.17 in /usr/local/lib/python3.7/dist-packages (from requests>=2.20->yfinance) (2021.5.30)\n",
            "Requirement already satisfied: chardet<4,>=3.0.2 in /usr/local/lib/python3.7/dist-packages (from requests>=2.20->yfinance) (3.0.4)\n",
            "Building wheels for collected packages: yfinance\n",
            "  Building wheel for yfinance (setup.py) ... \u001b[?25l\u001b[?25hdone\n",
            "  Created wheel for yfinance: filename=yfinance-0.1.63-py2.py3-none-any.whl size=23919 sha256=a0b7b15202ac3efe14f0233149972182852a39ca0b70408eafd7d4598c2a8fc1\n",
            "  Stored in directory: /root/.cache/pip/wheels/fe/87/8b/7ec24486e001d3926537f5f7801f57a74d181be25b11157983\n",
            "Successfully built yfinance\n",
            "Installing collected packages: lxml, yfinance\n",
            "  Attempting uninstall: lxml\n",
            "    Found existing installation: lxml 4.2.6\n",
            "    Uninstalling lxml-4.2.6:\n",
            "      Successfully uninstalled lxml-4.2.6\n",
            "Successfully installed lxml-4.6.3 yfinance-0.1.63\n"
          ],
          "name": "stdout"
        },
        {
          "output_type": "display_data",
          "data": {
            "application/vnd.colab-display-data+json": {
              "pip_warning": {
                "packages": [
                  "lxml"
                ]
              }
            }
          },
          "metadata": {
            "tags": []
          }
        }
      ]
    },
    {
      "cell_type": "code",
      "metadata": {
        "id": "Elb8NkytAGdS"
      },
      "source": [
        "import yfinance as yf"
      ],
      "execution_count": 28,
      "outputs": []
    },
    {
      "cell_type": "code",
      "metadata": {
        "colab": {
          "base_uri": "https://localhost:8080/",
          "height": 446
        },
        "id": "Q_E370o8AM2v",
        "outputId": "93280577-c3c3-45bf-a087-ebca5eb0cb75"
      },
      "source": [
        "start_date = '2021-07-13'\n",
        "end_date = '2021-07-27'\n",
        "\n",
        "\n",
        "\n",
        "data = pd.DataFrame()\n",
        "\n",
        "# Fetch the data\n",
        "for ticker in tickers:\n",
        "    data[ticker] = yf.download(ticker, \n",
        "                               start_date,\n",
        "                               end_date)['Adj Close']\n",
        "    \n",
        "# Print first 5 rows of the data\n",
        "data.head(17)"
      ],
      "execution_count": 29,
      "outputs": [
        {
          "output_type": "stream",
          "text": [
            "[*********************100%***********************]  1 of 1 completed\n",
            "[*********************100%***********************]  1 of 1 completed\n",
            "[*********************100%***********************]  1 of 1 completed\n"
          ],
          "name": "stdout"
        },
        {
          "output_type": "execute_result",
          "data": {
            "text/html": [
              "<div>\n",
              "<style scoped>\n",
              "    .dataframe tbody tr th:only-of-type {\n",
              "        vertical-align: middle;\n",
              "    }\n",
              "\n",
              "    .dataframe tbody tr th {\n",
              "        vertical-align: top;\n",
              "    }\n",
              "\n",
              "    .dataframe thead th {\n",
              "        text-align: right;\n",
              "    }\n",
              "</style>\n",
              "<table border=\"1\" class=\"dataframe\">\n",
              "  <thead>\n",
              "    <tr style=\"text-align: right;\">\n",
              "      <th></th>\n",
              "      <th>GME</th>\n",
              "      <th>AMC</th>\n",
              "      <th>TSLA</th>\n",
              "    </tr>\n",
              "    <tr>\n",
              "      <th>Date</th>\n",
              "      <th></th>\n",
              "      <th></th>\n",
              "      <th></th>\n",
              "    </tr>\n",
              "  </thead>\n",
              "  <tbody>\n",
              "    <tr>\n",
              "      <th>2021-07-13</th>\n",
              "      <td>180.059998</td>\n",
              "      <td>39.349998</td>\n",
              "      <td>668.539978</td>\n",
              "    </tr>\n",
              "    <tr>\n",
              "      <th>2021-07-14</th>\n",
              "      <td>167.619995</td>\n",
              "      <td>33.430000</td>\n",
              "      <td>653.380005</td>\n",
              "    </tr>\n",
              "    <tr>\n",
              "      <th>2021-07-15</th>\n",
              "      <td>166.820007</td>\n",
              "      <td>36.000000</td>\n",
              "      <td>650.599976</td>\n",
              "    </tr>\n",
              "    <tr>\n",
              "      <th>2021-07-16</th>\n",
              "      <td>169.039993</td>\n",
              "      <td>34.959999</td>\n",
              "      <td>644.219971</td>\n",
              "    </tr>\n",
              "    <tr>\n",
              "      <th>2021-07-19</th>\n",
              "      <td>173.490005</td>\n",
              "      <td>34.619999</td>\n",
              "      <td>646.219971</td>\n",
              "    </tr>\n",
              "    <tr>\n",
              "      <th>2021-07-20</th>\n",
              "      <td>191.179993</td>\n",
              "      <td>43.090000</td>\n",
              "      <td>660.500000</td>\n",
              "    </tr>\n",
              "    <tr>\n",
              "      <th>2021-07-21</th>\n",
              "      <td>185.809998</td>\n",
              "      <td>40.779999</td>\n",
              "      <td>655.289978</td>\n",
              "    </tr>\n",
              "    <tr>\n",
              "      <th>2021-07-22</th>\n",
              "      <td>178.850006</td>\n",
              "      <td>37.240002</td>\n",
              "      <td>649.260010</td>\n",
              "    </tr>\n",
              "    <tr>\n",
              "      <th>2021-07-23</th>\n",
              "      <td>180.360001</td>\n",
              "      <td>36.990002</td>\n",
              "      <td>643.380005</td>\n",
              "    </tr>\n",
              "    <tr>\n",
              "      <th>2021-07-26</th>\n",
              "      <td>183.940002</td>\n",
              "      <td>40.290001</td>\n",
              "      <td>657.619995</td>\n",
              "    </tr>\n",
              "  </tbody>\n",
              "</table>\n",
              "</div>"
            ],
            "text/plain": [
              "                   GME        AMC        TSLA\n",
              "Date                                         \n",
              "2021-07-13  180.059998  39.349998  668.539978\n",
              "2021-07-14  167.619995  33.430000  653.380005\n",
              "2021-07-15  166.820007  36.000000  650.599976\n",
              "2021-07-16  169.039993  34.959999  644.219971\n",
              "2021-07-19  173.490005  34.619999  646.219971\n",
              "2021-07-20  191.179993  43.090000  660.500000\n",
              "2021-07-21  185.809998  40.779999  655.289978\n",
              "2021-07-22  178.850006  37.240002  649.260010\n",
              "2021-07-23  180.360001  36.990002  643.380005\n",
              "2021-07-26  183.940002  40.290001  657.619995"
            ]
          },
          "metadata": {
            "tags": []
          },
          "execution_count": 29
        }
      ]
    },
    {
      "cell_type": "code",
      "metadata": {
        "id": "QnL0BlAJq4qG"
      },
      "source": [
        "gme = yf.Ticker('GME').history(start=\"2021-07-13\",  end=\"2021-07-27\")\n",
        " "
      ],
      "execution_count": 30,
      "outputs": []
    },
    {
      "cell_type": "code",
      "metadata": {
        "colab": {
          "base_uri": "https://localhost:8080/",
          "height": 237
        },
        "id": "nnN3FCsSxA4g",
        "outputId": "b32cb2e0-6437-4949-cc46-3716b7e3afc4"
      },
      "source": [
        "gme.head()"
      ],
      "execution_count": 31,
      "outputs": [
        {
          "output_type": "execute_result",
          "data": {
            "text/html": [
              "<div>\n",
              "<style scoped>\n",
              "    .dataframe tbody tr th:only-of-type {\n",
              "        vertical-align: middle;\n",
              "    }\n",
              "\n",
              "    .dataframe tbody tr th {\n",
              "        vertical-align: top;\n",
              "    }\n",
              "\n",
              "    .dataframe thead th {\n",
              "        text-align: right;\n",
              "    }\n",
              "</style>\n",
              "<table border=\"1\" class=\"dataframe\">\n",
              "  <thead>\n",
              "    <tr style=\"text-align: right;\">\n",
              "      <th></th>\n",
              "      <th>Open</th>\n",
              "      <th>High</th>\n",
              "      <th>Low</th>\n",
              "      <th>Close</th>\n",
              "      <th>Volume</th>\n",
              "      <th>Dividends</th>\n",
              "      <th>Stock Splits</th>\n",
              "    </tr>\n",
              "    <tr>\n",
              "      <th>Date</th>\n",
              "      <th></th>\n",
              "      <th></th>\n",
              "      <th></th>\n",
              "      <th></th>\n",
              "      <th></th>\n",
              "      <th></th>\n",
              "      <th></th>\n",
              "    </tr>\n",
              "  </thead>\n",
              "  <tbody>\n",
              "    <tr>\n",
              "      <th>2021-07-13</th>\n",
              "      <td>187.679993</td>\n",
              "      <td>188.789993</td>\n",
              "      <td>179.000000</td>\n",
              "      <td>180.059998</td>\n",
              "      <td>2397900</td>\n",
              "      <td>0</td>\n",
              "      <td>0</td>\n",
              "    </tr>\n",
              "    <tr>\n",
              "      <th>2021-07-14</th>\n",
              "      <td>180.490005</td>\n",
              "      <td>182.380005</td>\n",
              "      <td>165.070007</td>\n",
              "      <td>167.619995</td>\n",
              "      <td>3913800</td>\n",
              "      <td>0</td>\n",
              "      <td>0</td>\n",
              "    </tr>\n",
              "    <tr>\n",
              "      <th>2021-07-15</th>\n",
              "      <td>160.000000</td>\n",
              "      <td>171.990005</td>\n",
              "      <td>158.009995</td>\n",
              "      <td>166.820007</td>\n",
              "      <td>4298600</td>\n",
              "      <td>0</td>\n",
              "      <td>0</td>\n",
              "    </tr>\n",
              "    <tr>\n",
              "      <th>2021-07-16</th>\n",
              "      <td>170.149994</td>\n",
              "      <td>179.470001</td>\n",
              "      <td>166.300003</td>\n",
              "      <td>169.039993</td>\n",
              "      <td>3278800</td>\n",
              "      <td>0</td>\n",
              "      <td>0</td>\n",
              "    </tr>\n",
              "    <tr>\n",
              "      <th>2021-07-19</th>\n",
              "      <td>163.300003</td>\n",
              "      <td>176.000000</td>\n",
              "      <td>161.220001</td>\n",
              "      <td>173.490005</td>\n",
              "      <td>2436900</td>\n",
              "      <td>0</td>\n",
              "      <td>0</td>\n",
              "    </tr>\n",
              "  </tbody>\n",
              "</table>\n",
              "</div>"
            ],
            "text/plain": [
              "                  Open        High  ...  Dividends  Stock Splits\n",
              "Date                                ...                         \n",
              "2021-07-13  187.679993  188.789993  ...          0             0\n",
              "2021-07-14  180.490005  182.380005  ...          0             0\n",
              "2021-07-15  160.000000  171.990005  ...          0             0\n",
              "2021-07-16  170.149994  179.470001  ...          0             0\n",
              "2021-07-19  163.300003  176.000000  ...          0             0\n",
              "\n",
              "[5 rows x 7 columns]"
            ]
          },
          "metadata": {
            "tags": []
          },
          "execution_count": 31
        }
      ]
    },
    {
      "cell_type": "code",
      "metadata": {
        "id": "HKD8-hPJknf2"
      },
      "source": [
        "gme = gme.drop(['Dividends','Stock Splits'],axis=1)"
      ],
      "execution_count": 32,
      "outputs": []
    },
    {
      "cell_type": "code",
      "metadata": {
        "id": "ICU8BJ9Ulq6f"
      },
      "source": [
        "gme = gme.reset_index()"
      ],
      "execution_count": 33,
      "outputs": []
    },
    {
      "cell_type": "code",
      "metadata": {
        "id": "Bin-_OBrlJfn"
      },
      "source": [
        "gme.columns = gme.columns.str.lower()"
      ],
      "execution_count": 34,
      "outputs": []
    },
    {
      "cell_type": "code",
      "metadata": {
        "colab": {
          "base_uri": "https://localhost:8080/",
          "height": 206
        },
        "id": "epnkIhuSle47",
        "outputId": "62083ffa-bda2-45fe-ffc7-d5b47ab7d5e4"
      },
      "source": [
        "gme.head()"
      ],
      "execution_count": 35,
      "outputs": [
        {
          "output_type": "execute_result",
          "data": {
            "text/html": [
              "<div>\n",
              "<style scoped>\n",
              "    .dataframe tbody tr th:only-of-type {\n",
              "        vertical-align: middle;\n",
              "    }\n",
              "\n",
              "    .dataframe tbody tr th {\n",
              "        vertical-align: top;\n",
              "    }\n",
              "\n",
              "    .dataframe thead th {\n",
              "        text-align: right;\n",
              "    }\n",
              "</style>\n",
              "<table border=\"1\" class=\"dataframe\">\n",
              "  <thead>\n",
              "    <tr style=\"text-align: right;\">\n",
              "      <th></th>\n",
              "      <th>date</th>\n",
              "      <th>open</th>\n",
              "      <th>high</th>\n",
              "      <th>low</th>\n",
              "      <th>close</th>\n",
              "      <th>volume</th>\n",
              "    </tr>\n",
              "  </thead>\n",
              "  <tbody>\n",
              "    <tr>\n",
              "      <th>0</th>\n",
              "      <td>2021-07-13</td>\n",
              "      <td>187.679993</td>\n",
              "      <td>188.789993</td>\n",
              "      <td>179.000000</td>\n",
              "      <td>180.059998</td>\n",
              "      <td>2397900</td>\n",
              "    </tr>\n",
              "    <tr>\n",
              "      <th>1</th>\n",
              "      <td>2021-07-14</td>\n",
              "      <td>180.490005</td>\n",
              "      <td>182.380005</td>\n",
              "      <td>165.070007</td>\n",
              "      <td>167.619995</td>\n",
              "      <td>3913800</td>\n",
              "    </tr>\n",
              "    <tr>\n",
              "      <th>2</th>\n",
              "      <td>2021-07-15</td>\n",
              "      <td>160.000000</td>\n",
              "      <td>171.990005</td>\n",
              "      <td>158.009995</td>\n",
              "      <td>166.820007</td>\n",
              "      <td>4298600</td>\n",
              "    </tr>\n",
              "    <tr>\n",
              "      <th>3</th>\n",
              "      <td>2021-07-16</td>\n",
              "      <td>170.149994</td>\n",
              "      <td>179.470001</td>\n",
              "      <td>166.300003</td>\n",
              "      <td>169.039993</td>\n",
              "      <td>3278800</td>\n",
              "    </tr>\n",
              "    <tr>\n",
              "      <th>4</th>\n",
              "      <td>2021-07-19</td>\n",
              "      <td>163.300003</td>\n",
              "      <td>176.000000</td>\n",
              "      <td>161.220001</td>\n",
              "      <td>173.490005</td>\n",
              "      <td>2436900</td>\n",
              "    </tr>\n",
              "  </tbody>\n",
              "</table>\n",
              "</div>"
            ],
            "text/plain": [
              "        date        open        high         low       close   volume\n",
              "0 2021-07-13  187.679993  188.789993  179.000000  180.059998  2397900\n",
              "1 2021-07-14  180.490005  182.380005  165.070007  167.619995  3913800\n",
              "2 2021-07-15  160.000000  171.990005  158.009995  166.820007  4298600\n",
              "3 2021-07-16  170.149994  179.470001  166.300003  169.039993  3278800\n",
              "4 2021-07-19  163.300003  176.000000  161.220001  173.490005  2436900"
            ]
          },
          "metadata": {
            "tags": []
          },
          "execution_count": 35
        }
      ]
    },
    {
      "cell_type": "code",
      "metadata": {
        "id": "GL2PLL4HkOIs"
      },
      "source": [
        "gme_sent = test[test['ticker'] == 'GME']"
      ],
      "execution_count": 36,
      "outputs": []
    },
    {
      "cell_type": "code",
      "metadata": {
        "colab": {
          "base_uri": "https://localhost:8080/",
          "height": 206
        },
        "id": "Qz4G5YL_kWUz",
        "outputId": "488ce91a-56ec-4e06-e8ec-1e96a8578cf6"
      },
      "source": [
        "gme_sent.head()"
      ],
      "execution_count": 37,
      "outputs": [
        {
          "output_type": "execute_result",
          "data": {
            "text/html": [
              "<div>\n",
              "<style scoped>\n",
              "    .dataframe tbody tr th:only-of-type {\n",
              "        vertical-align: middle;\n",
              "    }\n",
              "\n",
              "    .dataframe tbody tr th {\n",
              "        vertical-align: top;\n",
              "    }\n",
              "\n",
              "    .dataframe thead th {\n",
              "        text-align: right;\n",
              "    }\n",
              "</style>\n",
              "<table border=\"1\" class=\"dataframe\">\n",
              "  <thead>\n",
              "    <tr style=\"text-align: right;\">\n",
              "      <th></th>\n",
              "      <th>date</th>\n",
              "      <th>ticker</th>\n",
              "      <th>title</th>\n",
              "      <th>compound</th>\n",
              "    </tr>\n",
              "  </thead>\n",
              "  <tbody>\n",
              "    <tr>\n",
              "      <th>0</th>\n",
              "      <td>2021-07-12</td>\n",
              "      <td>GME</td>\n",
              "      <td>10 Reddits WallStreetBets Meme Stocks Hedge Fu...</td>\n",
              "      <td>-0.2500</td>\n",
              "    </tr>\n",
              "    <tr>\n",
              "      <th>2</th>\n",
              "      <td>2021-07-13</td>\n",
              "      <td>GME</td>\n",
              "      <td>How Much $10,000 Invested This Year In AMC Sto...</td>\n",
              "      <td>0.7034</td>\n",
              "    </tr>\n",
              "    <tr>\n",
              "      <th>4</th>\n",
              "      <td>2021-07-14</td>\n",
              "      <td>GME</td>\n",
              "      <td>Meet the teen investors of the future These me...</td>\n",
              "      <td>-0.1280</td>\n",
              "    </tr>\n",
              "    <tr>\n",
              "      <th>6</th>\n",
              "      <td>2021-07-15</td>\n",
              "      <td>GME</td>\n",
              "      <td>GameStop (GME) Dips More Than Broader Markets:...</td>\n",
              "      <td>0.5873</td>\n",
              "    </tr>\n",
              "    <tr>\n",
              "      <th>8</th>\n",
              "      <td>2021-07-16</td>\n",
              "      <td>GME</td>\n",
              "      <td>Why AMC, GameStop, and Newegg Were All Over th...</td>\n",
              "      <td>0.6145</td>\n",
              "    </tr>\n",
              "  </tbody>\n",
              "</table>\n",
              "</div>"
            ],
            "text/plain": [
              "         date  ... compound\n",
              "0  2021-07-12  ...  -0.2500\n",
              "2  2021-07-13  ...   0.7034\n",
              "4  2021-07-14  ...  -0.1280\n",
              "6  2021-07-15  ...   0.5873\n",
              "8  2021-07-16  ...   0.6145\n",
              "\n",
              "[5 rows x 4 columns]"
            ]
          },
          "metadata": {
            "tags": []
          },
          "execution_count": 37
        }
      ]
    },
    {
      "cell_type": "code",
      "metadata": {
        "colab": {
          "base_uri": "https://localhost:8080/"
        },
        "id": "FARGm-6ZoGeZ",
        "outputId": "50d85902-1c6f-490f-eca0-742b6642b94f"
      },
      "source": [
        "gme_sent['date'] = gme_sent['date'].astype('datetime64')"
      ],
      "execution_count": 38,
      "outputs": [
        {
          "output_type": "stream",
          "text": [
            "/usr/local/lib/python3.7/dist-packages/ipykernel_launcher.py:1: SettingWithCopyWarning: \n",
            "A value is trying to be set on a copy of a slice from a DataFrame.\n",
            "Try using .loc[row_indexer,col_indexer] = value instead\n",
            "\n",
            "See the caveats in the documentation: https://pandas.pydata.org/pandas-docs/stable/user_guide/indexing.html#returning-a-view-versus-a-copy\n",
            "  \"\"\"Entry point for launching an IPython kernel.\n"
          ],
          "name": "stderr"
        }
      ]
    },
    {
      "cell_type": "code",
      "metadata": {
        "id": "cGrRFbiEnIQk"
      },
      "source": [
        "gme_merge = gme_sent.merge(gme,on='date')"
      ],
      "execution_count": 39,
      "outputs": []
    },
    {
      "cell_type": "code",
      "metadata": {
        "colab": {
          "base_uri": "https://localhost:8080/"
        },
        "id": "Tf1oO76SngSS",
        "outputId": "1ed30a8e-0cf4-4c12-c74a-23c49e01f918"
      },
      "source": [
        "gme.dtypes"
      ],
      "execution_count": 40,
      "outputs": [
        {
          "output_type": "execute_result",
          "data": {
            "text/plain": [
              "date      datetime64[ns]\n",
              "open             float64\n",
              "high             float64\n",
              "low              float64\n",
              "close            float64\n",
              "volume             int64\n",
              "dtype: object"
            ]
          },
          "metadata": {
            "tags": []
          },
          "execution_count": 40
        }
      ]
    },
    {
      "cell_type": "code",
      "metadata": {
        "colab": {
          "base_uri": "https://localhost:8080/"
        },
        "id": "vnvv8mACnqAz",
        "outputId": "b01bd2c8-d734-4d9f-9996-04bfdf7ba4c5"
      },
      "source": [
        "gme_sent.dtypes"
      ],
      "execution_count": 41,
      "outputs": [
        {
          "output_type": "execute_result",
          "data": {
            "text/plain": [
              "date        datetime64[ns]\n",
              "ticker              object\n",
              "title               object\n",
              "compound           float64\n",
              "dtype: object"
            ]
          },
          "metadata": {
            "tags": []
          },
          "execution_count": 41
        }
      ]
    },
    {
      "cell_type": "code",
      "metadata": {
        "colab": {
          "base_uri": "https://localhost:8080/",
          "height": 206
        },
        "id": "R7DU2DXRo1Dd",
        "outputId": "5e8ee4da-b0f3-4b2c-a59c-9a1fb018b018"
      },
      "source": [
        "gme_merge.head()"
      ],
      "execution_count": 42,
      "outputs": [
        {
          "output_type": "execute_result",
          "data": {
            "text/html": [
              "<div>\n",
              "<style scoped>\n",
              "    .dataframe tbody tr th:only-of-type {\n",
              "        vertical-align: middle;\n",
              "    }\n",
              "\n",
              "    .dataframe tbody tr th {\n",
              "        vertical-align: top;\n",
              "    }\n",
              "\n",
              "    .dataframe thead th {\n",
              "        text-align: right;\n",
              "    }\n",
              "</style>\n",
              "<table border=\"1\" class=\"dataframe\">\n",
              "  <thead>\n",
              "    <tr style=\"text-align: right;\">\n",
              "      <th></th>\n",
              "      <th>date</th>\n",
              "      <th>ticker</th>\n",
              "      <th>title</th>\n",
              "      <th>compound</th>\n",
              "      <th>open</th>\n",
              "      <th>high</th>\n",
              "      <th>low</th>\n",
              "      <th>close</th>\n",
              "      <th>volume</th>\n",
              "    </tr>\n",
              "  </thead>\n",
              "  <tbody>\n",
              "    <tr>\n",
              "      <th>0</th>\n",
              "      <td>2021-07-13</td>\n",
              "      <td>GME</td>\n",
              "      <td>How Much $10,000 Invested This Year In AMC Sto...</td>\n",
              "      <td>0.7034</td>\n",
              "      <td>187.679993</td>\n",
              "      <td>188.789993</td>\n",
              "      <td>179.000000</td>\n",
              "      <td>180.059998</td>\n",
              "      <td>2397900</td>\n",
              "    </tr>\n",
              "    <tr>\n",
              "      <th>1</th>\n",
              "      <td>2021-07-14</td>\n",
              "      <td>GME</td>\n",
              "      <td>Meet the teen investors of the future These me...</td>\n",
              "      <td>-0.1280</td>\n",
              "      <td>180.490005</td>\n",
              "      <td>182.380005</td>\n",
              "      <td>165.070007</td>\n",
              "      <td>167.619995</td>\n",
              "      <td>3913800</td>\n",
              "    </tr>\n",
              "    <tr>\n",
              "      <th>2</th>\n",
              "      <td>2021-07-15</td>\n",
              "      <td>GME</td>\n",
              "      <td>GameStop (GME) Dips More Than Broader Markets:...</td>\n",
              "      <td>0.5873</td>\n",
              "      <td>160.000000</td>\n",
              "      <td>171.990005</td>\n",
              "      <td>158.009995</td>\n",
              "      <td>166.820007</td>\n",
              "      <td>4298600</td>\n",
              "    </tr>\n",
              "    <tr>\n",
              "      <th>3</th>\n",
              "      <td>2021-07-16</td>\n",
              "      <td>GME</td>\n",
              "      <td>Why AMC, GameStop, and Newegg Were All Over th...</td>\n",
              "      <td>0.6145</td>\n",
              "      <td>170.149994</td>\n",
              "      <td>179.470001</td>\n",
              "      <td>166.300003</td>\n",
              "      <td>169.039993</td>\n",
              "      <td>3278800</td>\n",
              "    </tr>\n",
              "    <tr>\n",
              "      <th>4</th>\n",
              "      <td>2021-07-19</td>\n",
              "      <td>GME</td>\n",
              "      <td>Rosen Law Announces Updated Lead Plaintiff Dea...</td>\n",
              "      <td>-0.4019</td>\n",
              "      <td>163.300003</td>\n",
              "      <td>176.000000</td>\n",
              "      <td>161.220001</td>\n",
              "      <td>173.490005</td>\n",
              "      <td>2436900</td>\n",
              "    </tr>\n",
              "  </tbody>\n",
              "</table>\n",
              "</div>"
            ],
            "text/plain": [
              "        date ticker  ...       close   volume\n",
              "0 2021-07-13    GME  ...  180.059998  2397900\n",
              "1 2021-07-14    GME  ...  167.619995  3913800\n",
              "2 2021-07-15    GME  ...  166.820007  4298600\n",
              "3 2021-07-16    GME  ...  169.039993  3278800\n",
              "4 2021-07-19    GME  ...  173.490005  2436900\n",
              "\n",
              "[5 rows x 9 columns]"
            ]
          },
          "metadata": {
            "tags": []
          },
          "execution_count": 42
        }
      ]
    },
    {
      "cell_type": "code",
      "metadata": {
        "colab": {
          "base_uri": "https://localhost:8080/",
          "height": 307
        },
        "id": "IPyDvohypIQY",
        "outputId": "9600f899-296e-4963-d9c9-42d15f9384af"
      },
      "source": [
        "\n",
        "fig, ax1 = plt.subplots()\n",
        "   \n",
        "color = 'tab:blue'\n",
        "ax1.set_xlabel('Date (s)')\n",
        "ax1.set_ylabel('Close', color = color)\n",
        "ax1.plot(gme_merge['date'], gme_merge['close'], color = color)\n",
        "#ax1.tick_params(axis ='y', labelcolor = color)\n",
        "ax1.tick_params(axis ='both', which='major', labelsize='8',labelcolor = color)\n",
        "\n",
        "   \n",
        "ax2 = ax1.twinx()\n",
        "   \n",
        "color = 'tab:green'\n",
        "ax2.set_ylabel('Compound', color = color)\n",
        "ax2.plot(gme_merge['date'], gme_merge['compound'], color = color)\n",
        "#ax2.tick_params(axis ='y', labelcolor = color)\n",
        "ax2.tick_params(axis ='both', which='major', labelsize='8',labelcolor = color)\n",
        "  \n",
        "fig.suptitle('GME Close vs Compound', fontweight =\"bold\")\n",
        "\n",
        "plt.show()"
      ],
      "execution_count": 43,
      "outputs": [
        {
          "output_type": "display_data",
          "data": {
            "image/png": "[encoded data removed]",
            "text/plain": [
              "<Figure size 432x288 with 2 Axes>"
            ]
          },
          "metadata": {
            "tags": [],
            "needs_background": "light"
          }
        }
      ]
    },
    {
      "cell_type": "code",
      "metadata": {
        "colab": {
          "base_uri": "https://localhost:8080/"
        },
        "id": "DigldXVLvYv1",
        "outputId": "fe1b046d-cd4c-4d0b-e45b-d5be63c259cc"
      },
      "source": [
        "amc = yf.Ticker('AMC').history(start=\"2021-07-13\",  end=\"2021-07-27\")\n",
        "amc = amc.drop(['Dividends','Stock Splits'],axis=1)\n",
        "amc = amc.reset_index()\n",
        "amc.columns = amc.columns.str.lower()\n",
        "amc_sent = test[test['ticker'] == 'AMC']\n",
        "amc_sent['date'] = amc_sent['date'].astype('datetime64')\n",
        "amc_merge = amc_sent.merge(gme,on='date')"
      ],
      "execution_count": 44,
      "outputs": [
        {
          "output_type": "stream",
          "text": [
            "/usr/local/lib/python3.7/dist-packages/ipykernel_launcher.py:6: SettingWithCopyWarning: \n",
            "A value is trying to be set on a copy of a slice from a DataFrame.\n",
            "Try using .loc[row_indexer,col_indexer] = value instead\n",
            "\n",
            "See the caveats in the documentation: https://pandas.pydata.org/pandas-docs/stable/user_guide/indexing.html#returning-a-view-versus-a-copy\n",
            "  \n"
          ],
          "name": "stderr"
        }
      ]
    },
    {
      "cell_type": "code",
      "metadata": {
        "colab": {
          "base_uri": "https://localhost:8080/",
          "height": 307
        },
        "id": "F9gOOzt0w9S1",
        "outputId": "e7fbd6cf-b1d5-4bb0-ce67-1f2e8bb8de9c"
      },
      "source": [
        "fig, ax1 = plt.subplots()\n",
        "   \n",
        "color = 'tab:red'\n",
        "ax1.set_xlabel('Date (s)')\n",
        "ax1.set_ylabel('Close', color = color)\n",
        "ax1.plot(amc_merge['date'], amc_merge['close'], color = color)\n",
        "#ax1.tick_params(axis ='y', labelcolor = color)\n",
        "ax1.tick_params(axis ='both', which='major', labelsize='8',labelcolor = color)\n",
        "\n",
        "   \n",
        "ax2 = ax1.twinx()\n",
        "   \n",
        "color = 'tab:purple'\n",
        "ax2.set_ylabel('Compound', color = color)\n",
        "ax2.plot(amc_merge['date'], amc_merge['compound'], color = color)\n",
        "#ax2.tick_params(axis ='y', labelcolor = color)\n",
        "ax2.tick_params(axis ='both', which='major', labelsize='8',labelcolor = color)\n",
        "  \n",
        "fig.suptitle('AMC Close vs Compound', fontweight =\"bold\")\n",
        "\n",
        "plt.show()"
      ],
      "execution_count": 45,
      "outputs": [
        {
          "output_type": "display_data",
          "data": {
            "image/png": "[encoded data removed]",
            "text/plain": [
              "<Figure size 432x288 with 2 Axes>"
            ]
          },
          "metadata": {
            "tags": [],
            "needs_background": "light"
          }
        }
      ]
    }
  ]
}